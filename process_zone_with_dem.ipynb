{
 "cells": [
  {
   "cell_type": "code",
   "execution_count": 1,
   "metadata": {},
   "outputs": [],
   "source": [
    "import laspy\n",
    "import numpy as np\n",
    "from scipy.interpolate import griddata\n",
    "from pyproj import Transformer, CRS\n",
    "from tqdm import tqdm"
   ]
  },
  {
   "cell_type": "code",
   "execution_count": 2,
   "metadata": {},
   "outputs": [],
   "source": [
    "# Example usage\n",
    "laz_file_path = \"../lasersurface/lidar_data/3dm_32_356_5645_1_nw.laz\"\n"
   ]
  },
  {
   "cell_type": "code",
   "execution_count": 43,
   "metadata": {},
   "outputs": [],
   "source": [
    "with laspy.open(laz_file_path) as file:\n",
    "    las = file.read()\n",
    "\n",
    "points = np.vstack((las.x, las.y, las.z)).transpose()\n",
    "\n",
    "ground_points = las.points[las.classification == 2]"
   ]
  },
  {
   "cell_type": "code",
   "execution_count": 53,
   "metadata": {},
   "outputs": [],
   "source": [
    "gnd_points = np.vstack((ground_points.x, ground_points.y, ground_points.z)).transpose()"
   ]
  },
  {
   "cell_type": "code",
   "execution_count": 65,
   "metadata": {},
   "outputs": [],
   "source": [
    "geotiff_file = './DEM_data/urn_eop_DLR_CDEM10_Copernicus_DSM_04_N50_00_E006_00_V8239-2020_1__DEM1__coverage_20231204210410.tif'\n",
    "egm96_geoid_file = './EGM96_data/egm96_15.gtx'\n",
    "egg08_geoid_file = './EGG08_data/egm08_25.gtx'"
   ]
  },
  {
   "cell_type": "code",
   "execution_count": 74,
   "metadata": {},
   "outputs": [],
   "source": [
    "transformer = Transformer.from_pipeline(\n",
    "    f\"+proj=pipeline \"\n",
    "    f\"+step +inv +proj=utm +zone=32 +ellps=WGS84 \"  # Convert from UTM Zone 32N to geographic coordinates\n",
    "    f\"+step +proj=vgridshift +grids={geotiff_file} +multiplier = -1 \"  # Vertical grid shift to remove the DEM elevation\n",
    "    f\"+step +proj=vgridshift +grids={egm96_geoid_file} +multiplier = 1 \" # Vertical grid shift to add the EGM96 geoid height\n",
    "    f\"+step +proj=vgridshift +grids={egg08_geoid_file} +multiplier = -1 \" # Vertical grid shift to remove the EGM2008 geoid height\n",
    ")"
   ]
  },
  {
   "cell_type": "code",
   "execution_count": 76,
   "metadata": {},
   "outputs": [
    {
     "name": "stderr",
     "output_type": "stream",
     "text": [
      "100%|██████████| 9471722/9471722 [00:38<00:00, 248448.33it/s]\n"
     ]
    }
   ],
   "source": [
    "transformed_z = np.array([transformer.transform(xi, yi, zi)[2] for xi, yi, zi in tqdm(zip(las.x, las.y, las.z), total=9471722)])\n"
   ]
  },
  {
   "cell_type": "code",
   "execution_count": 75,
   "metadata": {},
   "outputs": [
    {
     "data": {
      "text/plain": [
       "(6.951483912258025, 50.879282150153145, -49.270857730293386)"
      ]
     },
     "execution_count": 75,
     "metadata": {},
     "output_type": "execute_result"
    }
   ],
   "source": [
    "transformer.transform(355890.0,5638399.8,0)"
   ]
  },
  {
   "cell_type": "code",
   "execution_count": 52,
   "metadata": {},
   "outputs": [
    {
     "data": {
      "text/plain": [
       "2.476752393870345"
      ]
     },
     "execution_count": 52,
     "metadata": {},
     "output_type": "execute_result"
    }
   ],
   "source": [
    "transformed_z.mean()"
   ]
  },
  {
   "attachments": {},
   "cell_type": "markdown",
   "metadata": {},
   "source": [
    "# test to transform only ground points and check average height"
   ]
  },
  {
   "cell_type": "code",
   "execution_count": 46,
   "metadata": {},
   "outputs": [
    {
     "name": "stderr",
     "output_type": "stream",
     "text": [
      "100%|██████████| 3365666/3365666 [00:13<00:00, 255302.60it/s]\n"
     ]
    }
   ],
   "source": [
    "transformed_ground_z = np.array([transformer.transform(xi, yi, zi)[2] for xi, yi, zi in tqdm(zip(ground_points.x, ground_points.y, ground_points.z), total=len(ground_points.x))])"
   ]
  },
  {
   "cell_type": "code",
   "execution_count": 49,
   "metadata": {},
   "outputs": [
    {
     "data": {
      "text/plain": [
       "-4.18818157750961"
      ]
     },
     "execution_count": 49,
     "metadata": {},
     "output_type": "execute_result"
    }
   ],
   "source": [
    "transformed_ground_z.mean()"
   ]
  },
  {
   "attachments": {},
   "cell_type": "markdown",
   "metadata": {},
   "source": [
    "# Check DEM file values with rasterio"
   ]
  },
  {
   "cell_type": "code",
   "execution_count": 33,
   "metadata": {},
   "outputs": [],
   "source": [
    "import rasterio\n",
    "from rasterio.transform import from_origin\n",
    "\n",
    "def get_dem_elevation(dem_file, lat, lon):\n",
    "    \"\"\"\n",
    "    Get the elevation from a DEM file at a given latitude and longitude.\n",
    "\n",
    "    Parameters:\n",
    "    dem_file (str): Path to the DEM file.\n",
    "    lat (float): Latitude of the point.\n",
    "    lon (float): Longitude of the point.\n",
    "\n",
    "    Returns:\n",
    "    float: Elevation at the given latitude and longitude.\n",
    "    \"\"\"\n",
    "    with rasterio.open(dem_file) as dataset:\n",
    "        # Convert the latitude and longitude to row and column\n",
    "        row, col = dataset.index(lon, lat)\n",
    "\n",
    "        # Read the elevation at the given row and column\n",
    "        elevation = dataset.read(1)[row, col]\n",
    "        return elevation"
   ]
  },
  {
   "cell_type": "code",
   "execution_count": 39,
   "metadata": {},
   "outputs": [
    {
     "name": "stdout",
     "output_type": "stream",
     "text": [
      "Elevation at (50.9392718, 6.9659982): 37.0 meters\n"
     ]
    }
   ],
   "source": [
    "latitude, longitude = 50.9392718,6.9659982\n",
    "elevation = get_dem_elevation(geotiff_file, latitude, longitude)\n",
    "print(f\"Elevation at ({latitude}, {longitude}): {elevation} meters\")"
   ]
  }
 ],
 "metadata": {
  "kernelspec": {
   "display_name": ".venv",
   "language": "python",
   "name": "python3"
  },
  "language_info": {
   "codemirror_mode": {
    "name": "ipython",
    "version": 3
   },
   "file_extension": ".py",
   "mimetype": "text/x-python",
   "name": "python",
   "nbconvert_exporter": "python",
   "pygments_lexer": "ipython3",
   "version": "3.11.6"
  },
  "orig_nbformat": 4,
  "vscode": {
   "interpreter": {
    "hash": "702bde69d4ee5155b74d46a654520b5d5efccaf7a15b9a8896e2d58f0f947281"
   }
  }
 },
 "nbformat": 4,
 "nbformat_minor": 2
}
