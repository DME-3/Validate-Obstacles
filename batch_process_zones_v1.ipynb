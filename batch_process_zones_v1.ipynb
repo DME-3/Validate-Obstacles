{
 "cells": [
  {
   "cell_type": "code",
   "execution_count": 1,
   "metadata": {},
   "outputs": [],
   "source": [
    "import laspy\n",
    "import numpy as np\n",
    "from scipy.interpolate import griddata\n",
    "from pyproj import Transformer, CRS\n",
    "from tqdm import tqdm\n",
    "import pandas as pd\n",
    "from sklearn.cluster import DBSCAN\n",
    "import logging\n",
    "import json\n",
    "import os\n",
    "import time\n",
    "import rasterio\n",
    "import sys\n",
    "import pygmt\n",
    "import utm\n",
    "from rasterio.warp import calculate_default_transform, reproject, Resampling"
   ]
  },
  {
   "cell_type": "markdown",
   "metadata": {},
   "source": [
    "# Initialisation and constants"
   ]
  },
  {
   "cell_type": "code",
   "execution_count": 7,
   "metadata": {},
   "outputs": [],
   "source": [
    "zone_files_list = \"./download_lists/MGB_files.txt\"\n",
    "zone_laz_dir = \"/Volumes/SSD2/Split_NRW/zone_1.2/\"\n",
    "zone_DEM_dir = \"/Volumes/SSD2/Split_NRW/zone_1.2_DEM/\"\n",
    "\n",
    "log_dir = \"./logs/\"\n",
    "index_file = \"./assets/index.json\"\n",
    "\n",
    "backup_DEM_file = './DEM_data/urn_eop_DLR_CDEM10_Copernicus_DSM_04_N50_00_E006_00_V8239-2020_1__DEM1__coverage_20231204210410.tif'"
   ]
  },
  {
   "cell_type": "code",
   "execution_count": 9,
   "metadata": {},
   "outputs": [],
   "source": [
    "# Constants for laz processing\n",
    "\n",
    "SSFACTOR = 2 # Subsampling factor for points cloud\n",
    "\n",
    "lastReturnNichtBoden = 20\n",
    "brueckenpunkte = 17\n",
    "unclassified = 1\n",
    "\n",
    "class_ok = [brueckenpunkte, lastReturnNichtBoden, unclassified]\n",
    "\n",
    "dst_crs = 'EPSG:4326'"
   ]
  },
  {
   "cell_type": "code",
   "execution_count": 10,
   "metadata": {},
   "outputs": [],
   "source": [
    "# Initialise logging\n",
    "# Set at DEBUG if necessary or else INFO\n",
    "\n",
    "logging.basicConfig(filename=f'{log_dir}/data_processing.log', \n",
    "                    level=logging.INFO, \n",
    "                    format='%(asctime)s:%(levelname)s:%(message)s')"
   ]
  },
  {
   "cell_type": "markdown",
   "metadata": {},
   "source": [
    "# Functions definition"
   ]
  },
  {
   "cell_type": "code",
   "execution_count": 11,
   "metadata": {},
   "outputs": [],
   "source": [
    "def load_file_to_list(filename):\n",
    "    with open(filename, 'r') as file:\n",
    "        lines = file.readlines()\n",
    "        # Strip newline characters from each line\n",
    "        lines = [line.strip() for line in lines]\n",
    "    return lines\n",
    "\n",
    "# Create a dictionary for quick lookup from the JSON data (much quicker than recursively looking up in the JSON)\n",
    "\n",
    "def create_lookup_dict(json_data):\n",
    "\n",
    "    lookup_dict = {}\n",
    "    for dataset in json_data.get('datasets', []):\n",
    "        for file in dataset.get('files', []):\n",
    "            lookup_dict[file['name']] = (file['size'], file['timestamp'])\n",
    "    return lookup_dict\n",
    "\n",
    "def calculate_size(filenames, lookup_dict):\n",
    "    total_files = 0\n",
    "    total_size = 0\n",
    "    not_found_files = []\n",
    "\n",
    "    for filename in filenames:\n",
    "        file_info = lookup_dict.get(filename)\n",
    "        if file_info:\n",
    "            total_files += 1\n",
    "            total_size += int(file_info[0])  # file_info[0] is the size\n",
    "        else:\n",
    "            not_found_files.append(filename)\n",
    "\n",
    "    return total_files, round(total_size / (1024**3), 2), not_found_files  # Size in GB and list of not found files\n",
    "\n",
    "def check_files_exist(file_list, directory):\n",
    "    missing_files = []\n",
    "    for file in file_list:\n",
    "        file_path = os.path.join(directory, file)\n",
    "        if not os.path.exists(file_path):\n",
    "            missing_files.append(file)\n",
    "    return missing_files\n",
    "\n",
    "def utm_to_latlon(x, y):\n",
    "    # Convert lat/lon to UTM coordinates\n",
    "    lat, lon = utm.to_latlon(x, y, 32, 'U')\n",
    "\n",
    "    return lat, lon\n",
    "\n",
    "def latlon_to_utm(lat, lon):\n",
    "    # Convert lat/lon to UTM coordinates\n",
    "    utm_x, utm_y, _, _ = utm.from_latlon(lat, lon)\n",
    "\n",
    "    return utm_x, utm_y"
   ]
  },
  {
   "cell_type": "markdown",
   "metadata": {},
   "source": [
    "# Loading necessary data and perform verifications"
   ]
  },
  {
   "cell_type": "code",
   "execution_count": 12,
   "metadata": {},
   "outputs": [],
   "source": [
    "# Load the index file and create a lookup dictionary\n",
    "\n",
    "with open(index_file, 'r') as file:\n",
    "    data = json.load(file)\n",
    "lookup_dict = create_lookup_dict(data)\n",
    "logging.info(\"Index file loaded.\")\n",
    "\n",
    "# Load .laz files list and calculate number of files and size\n",
    "\n",
    "laz_list = load_file_to_list(zone_files_list)\n",
    "index_info = calculate_size(laz_list, lookup_dict)\n",
    "logging.info(f\"Loaded .laz file list {zone_files_list}, found {index_info[0]} files, size is {index_info[1]} GB.\")\n",
    "\n",
    "# Check that all .laz files in the list exist in the index and .laz directory\n",
    "\n",
    "if index_info[2]:\n",
    "    logging.error(f\"The following files were not found in the index: {index_info[2]}\")\n",
    "\n",
    "missing_laz = check_files_exist(laz_list, zone_laz_dir)\n",
    "\n",
    "if not missing_laz:\n",
    "    logging.info(\"All .laz files are present in the LAZ directory.\")\n",
    "else:\n",
    "    logging.error(\"The following .laz files were not found:\", missing_laz)\n",
    "\n",
    "# Create a DEM file list and perform verifications\n",
    "\n",
    "def convert_filenames(laz_files):\n",
    "    dem_files = []\n",
    "    for file in laz_files:\n",
    "        # Split the file name to extract the necessary parts\n",
    "        parts = file.split('_')\n",
    "        # Construct the new file name with the desired format\n",
    "        new_file = f\"dgm1_32_{parts[2]}_{parts[3]}_1_nw.tif\"\n",
    "        dem_files.append(new_file)\n",
    "    return dem_files\n",
    "\n",
    "dem_list = convert_filenames(laz_list)\n",
    "\n",
    "missing_DEM = check_files_exist(dem_list, zone_DEM_dir)\n",
    "\n",
    "if not missing_DEM:\n",
    "    logging.info(\"All DEM .tif files are present in the DEM directory.\")\n",
    "else:\n",
    "    logging.error(\"The following DEM .tif files were not found:\", missing_DEM)"
   ]
  },
  {
   "cell_type": "markdown",
   "metadata": {},
   "source": [
    "# Batch processing"
   ]
  },
  {
   "cell_type": "code",
   "execution_count": 13,
   "metadata": {},
   "outputs": [
    {
     "name": "stderr",
     "output_type": "stream",
     "text": [
      "  0%|          | 0/70 [00:00<?, ?it/s]"
     ]
    },
    {
     "name": "stderr",
     "output_type": "stream",
     "text": [
      "100%|██████████| 70/70 [14:57<00:00, 12.82s/it]\n"
     ]
    }
   ],
   "source": [
    "logging.info(\"Starting to process...\")\n",
    "start_time = time.time()\n",
    "\n",
    "results_df = pd.DataFrame()\n",
    "\n",
    "for laz_file in tqdm(laz_list):\n",
    "\n",
    "    laz_file_path = zone_laz_dir + laz_file\n",
    "\n",
    "    with laspy.open(laz_file_path) as file:\n",
    "        las = file.read()\n",
    "    \n",
    "    logging.debug(f\"File {laz_file} loaded\")\n",
    "\n",
    "    class_val = las.classification[::SSFACTOR]\n",
    "\n",
    "    mask = (np.isin(class_val, class_ok))\n",
    "\n",
    "    points = np.vstack((las.x[::SSFACTOR][mask], las.y[::SSFACTOR][mask], las.z[::SSFACTOR][mask])).transpose()\n",
    "\n",
    "    DEM_file = zone_DEM_dir + convert_filenames([laz_file])[0]\n",
    "\n",
    "    with rasterio.open(DEM_file) as src:\n",
    "        transform, width, height = calculate_default_transform(\n",
    "            src.crs, dst_crs, src.width, src.height, *src.bounds)\n",
    "        kwargs = src.meta.copy()\n",
    "        kwargs.update({\n",
    "            'crs': dst_crs,\n",
    "            'transform': transform,\n",
    "            'width': width,\n",
    "            'height': height\n",
    "        })\n",
    "\n",
    "        temp_DEM_file = './temp_DEM_file.tif'\n",
    "\n",
    "        with rasterio.open(temp_DEM_file, 'w', **kwargs) as dst:\n",
    "            for i in range(1, src.count + 1):\n",
    "                reproject(\n",
    "                    source=rasterio.band(src, i),\n",
    "                    destination=rasterio.band(dst, i),\n",
    "                    src_transform=src.transform,\n",
    "                    src_crs=src.crs,\n",
    "                    dst_transform=transform,\n",
    "                    dst_crs=dst_crs,\n",
    "                    resampling=Resampling.nearest)\n",
    "    \n",
    "    logging.debug(\"Saved temporary reprojected DEM file\")\n",
    "\n",
    "\n",
    "    transformer = Transformer.from_pipeline(\n",
    "    f\"+proj=pipeline \"\n",
    "    f\"+step +inv +proj=utm +zone=32 +ellps=WGS84 \"  # Convert from UTM Zone 32N to geographic coordinates\n",
    "    f\"+step +proj=vgridshift +grids=@{temp_DEM_file},{backup_DEM_file} +multiplier = -1 \"  # Vertical grid shift to remove the DEM elevation\n",
    "    )\n",
    "\n",
    "    intermediate_time_start = time.time()\n",
    "    transformed_points = np.array([transformer.transform(xi, yi, zi) for xi, yi, zi in zip(points[:,0], points[:,1], points[:,2])])\n",
    "    intermediate_time_stop = time.time()\n",
    "    intermediate_execution_time = intermediate_time_stop - intermediate_time_start\n",
    "\n",
    "    logging.info(f\"Performed vgridshift for {laz_file} in {round(intermediate_execution_time, 1)} seconds\")\n",
    "\n",
    "    df = pd.DataFrame(\n",
    "    data={\n",
    "        \"x\": points[:,0], #np.array(las.x), # We need UTM coordinates\n",
    "        \"y\": points[:,1], #np.array(las.y), # \n",
    "        \"z\": points[:,2],\n",
    "        \"h\": transformed_points[:,2]\n",
    "    }\n",
    "    )\n",
    "\n",
    "    size_df = sys.getsizeof(df)\n",
    "    logging.debug(f\"Size of the DataFrame: {np.ceil(size_df / (1024*1024))} MB\")\n",
    "\n",
    "    inf_rows = df.isin([np.inf, -np.inf]).any(axis=1)\n",
    "    inf_rows_df = df[inf_rows]\n",
    "    df = df[~inf_rows]\n",
    "    logging.debug(f'Removed {len(inf_rows_df)} rows to the dataframe.')\n",
    "\n",
    "    region = pygmt.info(data=df[[\"x\", \"y\"]], spacing=1)  # West, East, South, North\n",
    "\n",
    "    x_min, x_max, y_min, y_max = list(region)\n",
    "\n",
    "    # Filtering the DataFrame\n",
    "    condition = (abs(df['x'] - x_min) < 1.5) | \\\n",
    "                (abs(df['x'] - x_max) < 1.5) | \\\n",
    "                (abs(df['y'] - y_min) < 1.5) | \\\n",
    "                (abs(df['y'] - y_max) < 1.5)\n",
    "\n",
    "    df_filtered = df[~condition]\n",
    "\n",
    "    # Number of rows removed\n",
    "    logging.debug(f'Removed another {len(df) - len(df_filtered)} points on the edge.')\n",
    "\n",
    "    df_trimmed = pygmt.blockmedian(\n",
    "        data=df_filtered[[\"x\", \"y\", \"h\"]],\n",
    "        T=0.9999,  # 99.99th quantile, i.e. the highest point\n",
    "        spacing=\"1+e\", # 1+e for 1 m # 0.1 increases the size of df but more accurate?\n",
    "        region=region,\n",
    "    )\n",
    "\n",
    "    size_df_trimmed = sys.getsizeof(df_trimmed)\n",
    "    logging.debug(f\"Size of the trimmed dataframe: {np.ceil(size_df_trimmed / (1024*1024))} MB\")\n",
    "\n",
    "    high_points = df_trimmed[df_trimmed['h'] > 60] # Default = 60\n",
    "\n",
    "    if high_points.empty:\n",
    "        logging.info(f\"Found no obstacles.\")\n",
    "    else:\n",
    "        # Assuming that points within 100m of each other belong to the same obstacle\n",
    "        clustering = DBSCAN(eps=45, min_samples=2).fit(high_points[['x', 'y', 'h']]) # TODO: no error if no cluster found # Default = 50\n",
    "\n",
    "        # Add the cluster labels to the high_points DataFrame\n",
    "        high_points = high_points.copy()\n",
    "        high_points['cluster'] = clustering.labels_\n",
    "\n",
    "        # Filter out noise points (DBSCAN labels noise as -1)\n",
    "        obstacles = high_points[high_points['cluster'] != -1]\n",
    "\n",
    "        if obstacles.empty:\n",
    "            logging.info(f\"Found no obstacles.\")\n",
    "        else:\n",
    "            # Find the highest point in each obstacle cluster\n",
    "            highest_points = obstacles.loc[obstacles.groupby('cluster')['h'].idxmax()]\n",
    "\n",
    "            # The resulting DataFrame 'highest_points' contains the coordinates of the highest point of each obstacle\n",
    "            highest_points.reset_index(drop=True, inplace=True)\n",
    "\n",
    "            # Apply the conversion function to the DataFrame to create new columns 'lat' and 'lon'\n",
    "            highest_points['lat'], highest_points['lon'] = zip(*highest_points.apply(lambda row: utm_to_latlon(row['x'], row['y']), axis=1))\n",
    "\n",
    "            highest_points['gnd_elev'] = highest_points.apply(lambda row: round(-1 * transformer.transform(row['x'], row['y'], 0)[2], 2), axis=1)\n",
    "            highest_points['source'] = laz_file\n",
    "            highest_points['timestamp'] = lookup_dict.get(laz_file)[1]\n",
    "\n",
    "            logging.info(f\"Found {len(highest_points)} obstacles.\")\n",
    "\n",
    "            results_df = pd.concat([results_df, highest_points], ignore_index=True)\n",
    "\n",
    "results_df.reset_index(drop=True, inplace=True)\n",
    "\n",
    "end_time = time.time()\n",
    "\n",
    "# Compute execution time\n",
    "execution_time = end_time - start_time\n",
    "\n",
    "logging.info(f\"Processed all files. Execution time: {round(execution_time, 1)} seconds\")\n",
    "\n",
    "results_df.to_excel('results.xlsx', index=False)"
   ]
  },
  {
   "cell_type": "code",
   "execution_count": 14,
   "metadata": {},
   "outputs": [
    {
     "data": {
      "text/html": [
       "<div>\n",
       "<style scoped>\n",
       "    .dataframe tbody tr th:only-of-type {\n",
       "        vertical-align: middle;\n",
       "    }\n",
       "\n",
       "    .dataframe tbody tr th {\n",
       "        vertical-align: top;\n",
       "    }\n",
       "\n",
       "    .dataframe thead th {\n",
       "        text-align: right;\n",
       "    }\n",
       "</style>\n",
       "<table border=\"1\" class=\"dataframe\">\n",
       "  <thead>\n",
       "    <tr style=\"text-align: right;\">\n",
       "      <th></th>\n",
       "      <th>x</th>\n",
       "      <th>y</th>\n",
       "      <th>h</th>\n",
       "      <th>cluster</th>\n",
       "      <th>lat</th>\n",
       "      <th>lon</th>\n",
       "      <th>gnd_elev</th>\n",
       "      <th>source</th>\n",
       "      <th>timestamp</th>\n",
       "    </tr>\n",
       "  </thead>\n",
       "  <tbody>\n",
       "    <tr>\n",
       "      <th>0</th>\n",
       "      <td>315447.46</td>\n",
       "      <td>5677870.49</td>\n",
       "      <td>62.039926</td>\n",
       "      <td>0</td>\n",
       "      <td>51.222346</td>\n",
       "      <td>6.357055</td>\n",
       "      <td>64.90</td>\n",
       "      <td>3dm_32_315_5677_1_nw.laz</td>\n",
       "      <td>2022-08-22T08:38:22</td>\n",
       "    </tr>\n",
       "    <tr>\n",
       "      <th>1</th>\n",
       "      <td>318224.32</td>\n",
       "      <td>5677421.44</td>\n",
       "      <td>64.399752</td>\n",
       "      <td>0</td>\n",
       "      <td>51.219204</td>\n",
       "      <td>6.397005</td>\n",
       "      <td>72.84</td>\n",
       "      <td>3dm_32_318_5677_1_nw.laz</td>\n",
       "      <td>2023-04-05T14:17:42</td>\n",
       "    </tr>\n",
       "    <tr>\n",
       "      <th>2</th>\n",
       "      <td>320218.49</td>\n",
       "      <td>5673545.17</td>\n",
       "      <td>65.629498</td>\n",
       "      <td>0</td>\n",
       "      <td>51.185014</td>\n",
       "      <td>6.427472</td>\n",
       "      <td>71.00</td>\n",
       "      <td>3dm_32_320_5673_1_nw.laz</td>\n",
       "      <td>2023-04-24T14:44:20</td>\n",
       "    </tr>\n",
       "    <tr>\n",
       "      <th>3</th>\n",
       "      <td>320119.45</td>\n",
       "      <td>5675162.47</td>\n",
       "      <td>68.292019</td>\n",
       "      <td>0</td>\n",
       "      <td>51.199511</td>\n",
       "      <td>6.425246</td>\n",
       "      <td>77.66</td>\n",
       "      <td>3dm_32_320_5675_1_nw.laz</td>\n",
       "      <td>2023-04-28T10:44:50</td>\n",
       "    </tr>\n",
       "    <tr>\n",
       "      <th>4</th>\n",
       "      <td>321556.40</td>\n",
       "      <td>5675356.48</td>\n",
       "      <td>73.311936</td>\n",
       "      <td>0</td>\n",
       "      <td>51.201705</td>\n",
       "      <td>6.445696</td>\n",
       "      <td>48.78</td>\n",
       "      <td>3dm_32_321_5675_1_nw.laz</td>\n",
       "      <td>2023-03-20T13:25:24</td>\n",
       "    </tr>\n",
       "    <tr>\n",
       "      <th>5</th>\n",
       "      <td>322221.49</td>\n",
       "      <td>5672207.39</td>\n",
       "      <td>62.703285</td>\n",
       "      <td>0</td>\n",
       "      <td>51.173623</td>\n",
       "      <td>6.456765</td>\n",
       "      <td>52.73</td>\n",
       "      <td>3dm_32_322_5672_1_nw.laz</td>\n",
       "      <td>2023-03-22T15:02:53</td>\n",
       "    </tr>\n",
       "    <tr>\n",
       "      <th>6</th>\n",
       "      <td>322054.46</td>\n",
       "      <td>5674576.49</td>\n",
       "      <td>80.721681</td>\n",
       "      <td>0</td>\n",
       "      <td>51.194853</td>\n",
       "      <td>6.453204</td>\n",
       "      <td>46.76</td>\n",
       "      <td>3dm_32_322_5674_1_nw.laz</td>\n",
       "      <td>2023-03-23T16:36:33</td>\n",
       "    </tr>\n",
       "  </tbody>\n",
       "</table>\n",
       "</div>"
      ],
      "text/plain": [
       "           x           y          h  cluster        lat       lon  gnd_elev  \\\n",
       "0  315447.46  5677870.49  62.039926        0  51.222346  6.357055     64.90   \n",
       "1  318224.32  5677421.44  64.399752        0  51.219204  6.397005     72.84   \n",
       "2  320218.49  5673545.17  65.629498        0  51.185014  6.427472     71.00   \n",
       "3  320119.45  5675162.47  68.292019        0  51.199511  6.425246     77.66   \n",
       "4  321556.40  5675356.48  73.311936        0  51.201705  6.445696     48.78   \n",
       "5  322221.49  5672207.39  62.703285        0  51.173623  6.456765     52.73   \n",
       "6  322054.46  5674576.49  80.721681        0  51.194853  6.453204     46.76   \n",
       "\n",
       "                     source            timestamp  \n",
       "0  3dm_32_315_5677_1_nw.laz  2022-08-22T08:38:22  \n",
       "1  3dm_32_318_5677_1_nw.laz  2023-04-05T14:17:42  \n",
       "2  3dm_32_320_5673_1_nw.laz  2023-04-24T14:44:20  \n",
       "3  3dm_32_320_5675_1_nw.laz  2023-04-28T10:44:50  \n",
       "4  3dm_32_321_5675_1_nw.laz  2023-03-20T13:25:24  \n",
       "5  3dm_32_322_5672_1_nw.laz  2023-03-22T15:02:53  \n",
       "6  3dm_32_322_5674_1_nw.laz  2023-03-23T16:36:33  "
      ]
     },
     "execution_count": 14,
     "metadata": {},
     "output_type": "execute_result"
    }
   ],
   "source": [
    "results_df"
   ]
  },
  {
   "cell_type": "code",
   "execution_count": 9,
   "metadata": {},
   "outputs": [
    {
     "data": {
      "application/vnd.plotly.v1+json": {
       "config": {
        "plotlyServerURL": "https://plot.ly"
       },
       "data": [
        {
         "hoverinfo": "text",
         "lat": [
          51.20868082986958,
          51.222337568732314,
          51.22171945055852,
          51.22088983860654,
          51.22247802671328,
          51.235432854261944,
          51.232764445074324,
          51.24144956365322,
          51.2136806056064,
          51.21245547541826,
          51.214885418103336,
          51.2142102355986,
          51.21416400299913,
          51.21376791203629,
          51.24470821668088,
          51.24327819187094,
          51.24131075986277,
          51.241426840674094,
          51.222918851214544,
          51.222077496261846,
          51.221635809157114,
          51.21797276036668,
          51.216847958649545,
          51.21610941407067,
          51.2154955101072,
          51.21343909851521,
          51.21321363186175,
          51.221735295378465,
          51.220554239661624,
          51.219598355644145,
          51.219379149946406,
          51.21768590210878,
          51.21781723326045,
          51.21520183800503,
          51.2316131090076,
          51.23672948934765,
          51.24660372901367,
          51.24460134502907,
          51.25361795856645,
          51.252992743572364,
          51.252593086240054,
          51.25155157118591,
          51.27882062840715
         ],
         "lon": [
          6.731258500700247,
          6.731505066488387,
          6.733454605514847,
          6.731490187428716,
          6.732343454454336,
          6.732422230466985,
          6.72746794440729,
          6.735336043736513,
          6.749943688507919,
          6.7503450799659666,
          6.749341786163427,
          6.746509514033894,
          6.749274590030441,
          6.750195033216538,
          6.739102104197566,
          6.740045148999127,
          6.736975112572233,
          6.738690071201143,
          6.76174650340361,
          6.7621883437246435,
          6.76328820680306,
          6.761664396806894,
          6.752266939178171,
          6.763100745363834,
          6.761511780541992,
          6.77726311093635,
          6.776028343068297,
          6.767983539360168,
          6.7682704009345045,
          6.768673670968651,
          6.77603001538545,
          6.777803617533469,
          6.779571476073587,
          6.778133614241806,
          6.767217095286975,
          6.775176853753107,
          6.771330193709472,
          6.77817940243557,
          6.768001473906892,
          6.773161610482832,
          6.765270524583296,
          6.770524103028468,
          6.770492855505087
         ],
         "marker": {
          "color": "red",
          "opacity": 0.5,
          "size": 20
         },
         "mode": "markers",
         "text": [
          "Cluster: 0<br>Calculated height (m): 62.5",
          "Cluster: 0<br>Calculated height (m): 68.7",
          "Cluster: 1<br>Calculated height (m): 65.2",
          "Cluster: 2<br>Calculated height (m): 75.4",
          "Cluster: 0<br>Calculated height (m): 98.0",
          "Cluster: 0<br>Calculated height (m): 96.0",
          "Cluster: 1<br>Calculated height (m): 72.4",
          "Cluster: 0<br>Calculated height (m): 62.0",
          "Cluster: 0<br>Calculated height (m): 65.8",
          "Cluster: 1<br>Calculated height (m): 68.0",
          "Cluster: 0<br>Calculated height (m): 68.7",
          "Cluster: 1<br>Calculated height (m): 72.2",
          "Cluster: 2<br>Calculated height (m): 77.5",
          "Cluster: 3<br>Calculated height (m): 64.9",
          "Cluster: 0<br>Calculated height (m): 66.1",
          "Cluster: 1<br>Calculated height (m): 64.8",
          "Cluster: 2<br>Calculated height (m): 65.1",
          "Cluster: 3<br>Calculated height (m): 63.2",
          "Cluster: 0<br>Calculated height (m): 62.6",
          "Cluster: 1<br>Calculated height (m): 107.6",
          "Cluster: 2<br>Calculated height (m): 77.4",
          "Cluster: 3<br>Calculated height (m): 244.2",
          "Cluster: 4<br>Calculated height (m): 65.9",
          "Cluster: 5<br>Calculated height (m): 66.8",
          "Cluster: 6<br>Calculated height (m): 81.0",
          "Cluster: 0<br>Calculated height (m): 61.3",
          "Cluster: 1<br>Calculated height (m): 75.0",
          "Cluster: 0<br>Calculated height (m): 66.3",
          "Cluster: 1<br>Calculated height (m): 96.3",
          "Cluster: 2<br>Calculated height (m): 64.5",
          "Cluster: 3<br>Calculated height (m): 94.3",
          "Cluster: 4<br>Calculated height (m): 153.8",
          "Cluster: 5<br>Calculated height (m): 71.7",
          "Cluster: 6<br>Calculated height (m): 66.9",
          "Cluster: 0<br>Calculated height (m): 121.9",
          "Cluster: 0<br>Calculated height (m): 110.6",
          "Cluster: 0<br>Calculated height (m): 103.5",
          "Cluster: 1<br>Calculated height (m): 62.0",
          "Cluster: 0<br>Calculated height (m): 63.1",
          "Cluster: 1<br>Calculated height (m): 66.0",
          "Cluster: 2<br>Calculated height (m): 61.7",
          "Cluster: 3<br>Calculated height (m): 81.3",
          "Cluster: 0<br>Calculated height (m): 93.3"
         ],
         "type": "scattermapbox"
        }
       ],
       "layout": {
        "height": 800,
        "mapbox": {
         "center": {
          "lat": 51.227917359090696,
          "lon": 6.756757650676786
         },
         "style": "open-street-map",
         "zoom": 12
        },
        "margin": {
         "b": 10,
         "l": 10,
         "r": 10,
         "t": 10
        },
        "showlegend": false,
        "template": {
         "data": {
          "bar": [
           {
            "error_x": {
             "color": "#2a3f5f"
            },
            "error_y": {
             "color": "#2a3f5f"
            },
            "marker": {
             "line": {
              "color": "#E5ECF6",
              "width": 0.5
             },
             "pattern": {
              "fillmode": "overlay",
              "size": 10,
              "solidity": 0.2
             }
            },
            "type": "bar"
           }
          ],
          "barpolar": [
           {
            "marker": {
             "line": {
              "color": "#E5ECF6",
              "width": 0.5
             },
             "pattern": {
              "fillmode": "overlay",
              "size": 10,
              "solidity": 0.2
             }
            },
            "type": "barpolar"
           }
          ],
          "carpet": [
           {
            "aaxis": {
             "endlinecolor": "#2a3f5f",
             "gridcolor": "white",
             "linecolor": "white",
             "minorgridcolor": "white",
             "startlinecolor": "#2a3f5f"
            },
            "baxis": {
             "endlinecolor": "#2a3f5f",
             "gridcolor": "white",
             "linecolor": "white",
             "minorgridcolor": "white",
             "startlinecolor": "#2a3f5f"
            },
            "type": "carpet"
           }
          ],
          "choropleth": [
           {
            "colorbar": {
             "outlinewidth": 0,
             "ticks": ""
            },
            "type": "choropleth"
           }
          ],
          "contour": [
           {
            "colorbar": {
             "outlinewidth": 0,
             "ticks": ""
            },
            "colorscale": [
             [
              0,
              "#0d0887"
             ],
             [
              0.1111111111111111,
              "#46039f"
             ],
             [
              0.2222222222222222,
              "#7201a8"
             ],
             [
              0.3333333333333333,
              "#9c179e"
             ],
             [
              0.4444444444444444,
              "#bd3786"
             ],
             [
              0.5555555555555556,
              "#d8576b"
             ],
             [
              0.6666666666666666,
              "#ed7953"
             ],
             [
              0.7777777777777778,
              "#fb9f3a"
             ],
             [
              0.8888888888888888,
              "#fdca26"
             ],
             [
              1,
              "#f0f921"
             ]
            ],
            "type": "contour"
           }
          ],
          "contourcarpet": [
           {
            "colorbar": {
             "outlinewidth": 0,
             "ticks": ""
            },
            "type": "contourcarpet"
           }
          ],
          "heatmap": [
           {
            "colorbar": {
             "outlinewidth": 0,
             "ticks": ""
            },
            "colorscale": [
             [
              0,
              "#0d0887"
             ],
             [
              0.1111111111111111,
              "#46039f"
             ],
             [
              0.2222222222222222,
              "#7201a8"
             ],
             [
              0.3333333333333333,
              "#9c179e"
             ],
             [
              0.4444444444444444,
              "#bd3786"
             ],
             [
              0.5555555555555556,
              "#d8576b"
             ],
             [
              0.6666666666666666,
              "#ed7953"
             ],
             [
              0.7777777777777778,
              "#fb9f3a"
             ],
             [
              0.8888888888888888,
              "#fdca26"
             ],
             [
              1,
              "#f0f921"
             ]
            ],
            "type": "heatmap"
           }
          ],
          "heatmapgl": [
           {
            "colorbar": {
             "outlinewidth": 0,
             "ticks": ""
            },
            "colorscale": [
             [
              0,
              "#0d0887"
             ],
             [
              0.1111111111111111,
              "#46039f"
             ],
             [
              0.2222222222222222,
              "#7201a8"
             ],
             [
              0.3333333333333333,
              "#9c179e"
             ],
             [
              0.4444444444444444,
              "#bd3786"
             ],
             [
              0.5555555555555556,
              "#d8576b"
             ],
             [
              0.6666666666666666,
              "#ed7953"
             ],
             [
              0.7777777777777778,
              "#fb9f3a"
             ],
             [
              0.8888888888888888,
              "#fdca26"
             ],
             [
              1,
              "#f0f921"
             ]
            ],
            "type": "heatmapgl"
           }
          ],
          "histogram": [
           {
            "marker": {
             "pattern": {
              "fillmode": "overlay",
              "size": 10,
              "solidity": 0.2
             }
            },
            "type": "histogram"
           }
          ],
          "histogram2d": [
           {
            "colorbar": {
             "outlinewidth": 0,
             "ticks": ""
            },
            "colorscale": [
             [
              0,
              "#0d0887"
             ],
             [
              0.1111111111111111,
              "#46039f"
             ],
             [
              0.2222222222222222,
              "#7201a8"
             ],
             [
              0.3333333333333333,
              "#9c179e"
             ],
             [
              0.4444444444444444,
              "#bd3786"
             ],
             [
              0.5555555555555556,
              "#d8576b"
             ],
             [
              0.6666666666666666,
              "#ed7953"
             ],
             [
              0.7777777777777778,
              "#fb9f3a"
             ],
             [
              0.8888888888888888,
              "#fdca26"
             ],
             [
              1,
              "#f0f921"
             ]
            ],
            "type": "histogram2d"
           }
          ],
          "histogram2dcontour": [
           {
            "colorbar": {
             "outlinewidth": 0,
             "ticks": ""
            },
            "colorscale": [
             [
              0,
              "#0d0887"
             ],
             [
              0.1111111111111111,
              "#46039f"
             ],
             [
              0.2222222222222222,
              "#7201a8"
             ],
             [
              0.3333333333333333,
              "#9c179e"
             ],
             [
              0.4444444444444444,
              "#bd3786"
             ],
             [
              0.5555555555555556,
              "#d8576b"
             ],
             [
              0.6666666666666666,
              "#ed7953"
             ],
             [
              0.7777777777777778,
              "#fb9f3a"
             ],
             [
              0.8888888888888888,
              "#fdca26"
             ],
             [
              1,
              "#f0f921"
             ]
            ],
            "type": "histogram2dcontour"
           }
          ],
          "mesh3d": [
           {
            "colorbar": {
             "outlinewidth": 0,
             "ticks": ""
            },
            "type": "mesh3d"
           }
          ],
          "parcoords": [
           {
            "line": {
             "colorbar": {
              "outlinewidth": 0,
              "ticks": ""
             }
            },
            "type": "parcoords"
           }
          ],
          "pie": [
           {
            "automargin": true,
            "type": "pie"
           }
          ],
          "scatter": [
           {
            "fillpattern": {
             "fillmode": "overlay",
             "size": 10,
             "solidity": 0.2
            },
            "type": "scatter"
           }
          ],
          "scatter3d": [
           {
            "line": {
             "colorbar": {
              "outlinewidth": 0,
              "ticks": ""
             }
            },
            "marker": {
             "colorbar": {
              "outlinewidth": 0,
              "ticks": ""
             }
            },
            "type": "scatter3d"
           }
          ],
          "scattercarpet": [
           {
            "marker": {
             "colorbar": {
              "outlinewidth": 0,
              "ticks": ""
             }
            },
            "type": "scattercarpet"
           }
          ],
          "scattergeo": [
           {
            "marker": {
             "colorbar": {
              "outlinewidth": 0,
              "ticks": ""
             }
            },
            "type": "scattergeo"
           }
          ],
          "scattergl": [
           {
            "marker": {
             "colorbar": {
              "outlinewidth": 0,
              "ticks": ""
             }
            },
            "type": "scattergl"
           }
          ],
          "scattermapbox": [
           {
            "marker": {
             "colorbar": {
              "outlinewidth": 0,
              "ticks": ""
             }
            },
            "type": "scattermapbox"
           }
          ],
          "scatterpolar": [
           {
            "marker": {
             "colorbar": {
              "outlinewidth": 0,
              "ticks": ""
             }
            },
            "type": "scatterpolar"
           }
          ],
          "scatterpolargl": [
           {
            "marker": {
             "colorbar": {
              "outlinewidth": 0,
              "ticks": ""
             }
            },
            "type": "scatterpolargl"
           }
          ],
          "scatterternary": [
           {
            "marker": {
             "colorbar": {
              "outlinewidth": 0,
              "ticks": ""
             }
            },
            "type": "scatterternary"
           }
          ],
          "surface": [
           {
            "colorbar": {
             "outlinewidth": 0,
             "ticks": ""
            },
            "colorscale": [
             [
              0,
              "#0d0887"
             ],
             [
              0.1111111111111111,
              "#46039f"
             ],
             [
              0.2222222222222222,
              "#7201a8"
             ],
             [
              0.3333333333333333,
              "#9c179e"
             ],
             [
              0.4444444444444444,
              "#bd3786"
             ],
             [
              0.5555555555555556,
              "#d8576b"
             ],
             [
              0.6666666666666666,
              "#ed7953"
             ],
             [
              0.7777777777777778,
              "#fb9f3a"
             ],
             [
              0.8888888888888888,
              "#fdca26"
             ],
             [
              1,
              "#f0f921"
             ]
            ],
            "type": "surface"
           }
          ],
          "table": [
           {
            "cells": {
             "fill": {
              "color": "#EBF0F8"
             },
             "line": {
              "color": "white"
             }
            },
            "header": {
             "fill": {
              "color": "#C8D4E3"
             },
             "line": {
              "color": "white"
             }
            },
            "type": "table"
           }
          ]
         },
         "layout": {
          "annotationdefaults": {
           "arrowcolor": "#2a3f5f",
           "arrowhead": 0,
           "arrowwidth": 1
          },
          "autotypenumbers": "strict",
          "coloraxis": {
           "colorbar": {
            "outlinewidth": 0,
            "ticks": ""
           }
          },
          "colorscale": {
           "diverging": [
            [
             0,
             "#8e0152"
            ],
            [
             0.1,
             "#c51b7d"
            ],
            [
             0.2,
             "#de77ae"
            ],
            [
             0.3,
             "#f1b6da"
            ],
            [
             0.4,
             "#fde0ef"
            ],
            [
             0.5,
             "#f7f7f7"
            ],
            [
             0.6,
             "#e6f5d0"
            ],
            [
             0.7,
             "#b8e186"
            ],
            [
             0.8,
             "#7fbc41"
            ],
            [
             0.9,
             "#4d9221"
            ],
            [
             1,
             "#276419"
            ]
           ],
           "sequential": [
            [
             0,
             "#0d0887"
            ],
            [
             0.1111111111111111,
             "#46039f"
            ],
            [
             0.2222222222222222,
             "#7201a8"
            ],
            [
             0.3333333333333333,
             "#9c179e"
            ],
            [
             0.4444444444444444,
             "#bd3786"
            ],
            [
             0.5555555555555556,
             "#d8576b"
            ],
            [
             0.6666666666666666,
             "#ed7953"
            ],
            [
             0.7777777777777778,
             "#fb9f3a"
            ],
            [
             0.8888888888888888,
             "#fdca26"
            ],
            [
             1,
             "#f0f921"
            ]
           ],
           "sequentialminus": [
            [
             0,
             "#0d0887"
            ],
            [
             0.1111111111111111,
             "#46039f"
            ],
            [
             0.2222222222222222,
             "#7201a8"
            ],
            [
             0.3333333333333333,
             "#9c179e"
            ],
            [
             0.4444444444444444,
             "#bd3786"
            ],
            [
             0.5555555555555556,
             "#d8576b"
            ],
            [
             0.6666666666666666,
             "#ed7953"
            ],
            [
             0.7777777777777778,
             "#fb9f3a"
            ],
            [
             0.8888888888888888,
             "#fdca26"
            ],
            [
             1,
             "#f0f921"
            ]
           ]
          },
          "colorway": [
           "#636efa",
           "#EF553B",
           "#00cc96",
           "#ab63fa",
           "#FFA15A",
           "#19d3f3",
           "#FF6692",
           "#B6E880",
           "#FF97FF",
           "#FECB52"
          ],
          "font": {
           "color": "#2a3f5f"
          },
          "geo": {
           "bgcolor": "white",
           "lakecolor": "white",
           "landcolor": "#E5ECF6",
           "showlakes": true,
           "showland": true,
           "subunitcolor": "white"
          },
          "hoverlabel": {
           "align": "left"
          },
          "hovermode": "closest",
          "mapbox": {
           "style": "light"
          },
          "paper_bgcolor": "white",
          "plot_bgcolor": "#E5ECF6",
          "polar": {
           "angularaxis": {
            "gridcolor": "white",
            "linecolor": "white",
            "ticks": ""
           },
           "bgcolor": "#E5ECF6",
           "radialaxis": {
            "gridcolor": "white",
            "linecolor": "white",
            "ticks": ""
           }
          },
          "scene": {
           "xaxis": {
            "backgroundcolor": "#E5ECF6",
            "gridcolor": "white",
            "gridwidth": 2,
            "linecolor": "white",
            "showbackground": true,
            "ticks": "",
            "zerolinecolor": "white"
           },
           "yaxis": {
            "backgroundcolor": "#E5ECF6",
            "gridcolor": "white",
            "gridwidth": 2,
            "linecolor": "white",
            "showbackground": true,
            "ticks": "",
            "zerolinecolor": "white"
           },
           "zaxis": {
            "backgroundcolor": "#E5ECF6",
            "gridcolor": "white",
            "gridwidth": 2,
            "linecolor": "white",
            "showbackground": true,
            "ticks": "",
            "zerolinecolor": "white"
           }
          },
          "shapedefaults": {
           "line": {
            "color": "#2a3f5f"
           }
          },
          "ternary": {
           "aaxis": {
            "gridcolor": "white",
            "linecolor": "white",
            "ticks": ""
           },
           "baxis": {
            "gridcolor": "white",
            "linecolor": "white",
            "ticks": ""
           },
           "bgcolor": "#E5ECF6",
           "caxis": {
            "gridcolor": "white",
            "linecolor": "white",
            "ticks": ""
           }
          },
          "title": {
           "x": 0.05
          },
          "xaxis": {
           "automargin": true,
           "gridcolor": "white",
           "linecolor": "white",
           "ticks": "",
           "title": {
            "standoff": 15
           },
           "zerolinecolor": "white",
           "zerolinewidth": 2
          },
          "yaxis": {
           "automargin": true,
           "gridcolor": "white",
           "linecolor": "white",
           "ticks": "",
           "title": {
            "standoff": 15
           },
           "zerolinecolor": "white",
           "zerolinewidth": 2
          }
         }
        }
       }
      }
     },
     "metadata": {},
     "output_type": "display_data"
    }
   ],
   "source": [
    "import plotly.graph_objects as go\n",
    "\n",
    "scattermapbox_objects = []\n",
    "\n",
    "scattermapbox_objects.append(go.Scattermapbox(\n",
    "    mode=\"markers\",\n",
    "    lon=results_df['lon'], \n",
    "    lat=results_df['lat'],\n",
    "    marker={'size': 20, 'color': \"red\", 'opacity': 0.5,},\n",
    "    text='Cluster: '+ results_df['cluster'].apply(lambda x: str(x)) + '<br>' + 'Calculated height (m): ' + results_df['h'].apply(lambda x: str(round(x, 1))),\n",
    "    hoverinfo='text'  # Only display the text on hover\n",
    "))\n",
    "'''\n",
    "scattermapbox_objects.append(go.Scattermapbox(\n",
    "    mode=\"markers\",\n",
    "    lon=AIP_df['geoLong'], \n",
    "    lat=AIP_df['geoLat'],\n",
    "    marker={'size': 10, \n",
    "            'symbol': 'circle',\n",
    "            'color': \"blue\",\n",
    "            'opacity': 0.7,\n",
    "           },\n",
    "    text='Name: ' + AIP_df['txtName']+'<br>'+'Published height (m): ' + AIP_df['valHgt (m)'].apply(lambda x: str(round(x, 1))),\n",
    "    hoverinfo='text'  # Only display the text on hover\n",
    "))\n",
    "'''\n",
    "'''scattermapbox_objects.append(go.Scattermapbox(\n",
    "        name = 'Data limits',\n",
    "        mode=\"lines\",\n",
    "        line=dict(color=\"black\", width=1),\n",
    "        lat=np.array([LAT_MAX, LAT_MAX, LAT_MIN, LAT_MIN, LAT_MAX]),\n",
    "        lon=np.array([LON_MIN, LON_MAX, LON_MAX, LON_MIN, LON_MIN]),\n",
    "        hoverinfo='name',\n",
    "        hoverlabel_namelength=-1   # https://stackoverflow.com/questions/36207887/plot-ly-hover-box-size-attribute\n",
    "    ))\n",
    "'''\n",
    "# Create a scatter plot of the highest points using Plotly with OpenStreetMap background\n",
    "fig = go.Figure(data=scattermapbox_objects)\n",
    "\n",
    "# Set the layout for the map\n",
    "fig.update_layout(\n",
    "    mapbox={\n",
    "        'style': \"open-street-map\",\n",
    "        'center': {'lon': np.mean(results_df['lon']), 'lat': np.mean(results_df['lat'])},\n",
    "        'zoom': 12\n",
    "    },\n",
    "    showlegend=False\n",
    ")\n",
    "\n",
    "# Adjust the margins and set the height\n",
    "fig.update_layout(height=800, margin={\"r\":10,\"t\":10,\"l\":10,\"b\":10})\n",
    "\n",
    "# Show the figure\n",
    "fig.show()"
   ]
  }
 ],
 "metadata": {
  "kernelspec": {
   "display_name": ".venv",
   "language": "python",
   "name": "python3"
  },
  "language_info": {
   "codemirror_mode": {
    "name": "ipython",
    "version": 3
   },
   "file_extension": ".py",
   "mimetype": "text/x-python",
   "name": "python",
   "nbconvert_exporter": "python",
   "pygments_lexer": "ipython3",
   "version": "3.11.6"
  }
 },
 "nbformat": 4,
 "nbformat_minor": 2
}
