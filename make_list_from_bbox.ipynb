{
 "cells": [
  {
   "cell_type": "markdown",
   "metadata": {},
   "source": [
    "Use a bounding box to generate a list of files in that box, fron a subzone list."
   ]
  },
  {
   "cell_type": "code",
   "execution_count": 1,
   "metadata": {},
   "outputs": [],
   "source": [
    "def filter_files_by_coordinates(file_list, bottom_left, top_right):\n",
    "    filtered_list = []\n",
    "\n",
    "    # Extract the easting and northing bounds\n",
    "    easting_min, northing_min = bottom_left\n",
    "    easting_max, northing_max = top_right\n",
    "\n",
    "    for filename in file_list:\n",
    "        # Split the filename and extract coordinates\n",
    "        parts = filename.split('_')\n",
    "        if len(parts) >= 5:\n",
    "            easting = int(parts[2])\n",
    "            northing = int(parts[3])\n",
    "\n",
    "            # Check if the file is within the bounding box\n",
    "            if easting_min <= easting <= easting_max and northing_min <= northing <= northing_max:\n",
    "                filtered_list.append(filename)\n",
    "\n",
    "    return filtered_list\n",
    "\n",
    "def load_file_to_list(filename):\n",
    "    with open(filename, 'r') as file:\n",
    "        lines = file.readlines()\n",
    "        # Strip newline characters from each line\n",
    "        lines = [line.strip() for line in lines]\n",
    "    return lines"
   ]
  },
  {
   "cell_type": "code",
   "execution_count": 9,
   "metadata": {},
   "outputs": [],
   "source": [
    "zone_files_list = \"./download_lists/zone_1.2_files.txt\""
   ]
  },
  {
   "cell_type": "code",
   "execution_count": 10,
   "metadata": {},
   "outputs": [],
   "source": [
    "laz_list = load_file_to_list(zone_files_list)"
   ]
  },
  {
   "cell_type": "code",
   "execution_count": 11,
   "metadata": {},
   "outputs": [],
   "source": [
    "bottom_left_coord = (315, 5671)\n",
    "top_right_coord = (325, 5678)"
   ]
  },
  {
   "cell_type": "code",
   "execution_count": 12,
   "metadata": {},
   "outputs": [],
   "source": [
    "filtered_files = filter_files_by_coordinates(laz_list, bottom_left_coord, top_right_coord)\n",
    "\n",
    "with open('./download_lists/MGB_files.txt', 'w') as file:\n",
    "            for filename in filtered_files:\n",
    "                file.write(filename + '\\n')"
   ]
  }
 ],
 "metadata": {
  "kernelspec": {
   "display_name": ".venv",
   "language": "python",
   "name": "python3"
  },
  "language_info": {
   "codemirror_mode": {
    "name": "ipython",
    "version": 3
   },
   "file_extension": ".py",
   "mimetype": "text/x-python",
   "name": "python",
   "nbconvert_exporter": "python",
   "pygments_lexer": "ipython3",
   "version": "3.11.6"
  }
 },
 "nbformat": 4,
 "nbformat_minor": 2
}
