{
 "cells": [
  {
   "cell_type": "code",
   "execution_count": 1,
   "metadata": {},
   "outputs": [],
   "source": [
    "import laspy\n",
    "import numpy as np\n",
    "from scipy.interpolate import griddata\n",
    "from pyproj import Transformer, CRS\n",
    "from tqdm import tqdm\n",
    "import pandas as pd\n",
    "import sys\n",
    "import pygmt\n",
    "from sklearn.cluster import DBSCAN\n",
    "import utm"
   ]
  },
  {
   "cell_type": "code",
   "execution_count": 2,
   "metadata": {},
   "outputs": [],
   "source": [
    "# Define conversion functions\n",
    "\n",
    "def utm_to_latlon(x, y):\n",
    "    # Convert lat/lon to UTM coordinates\n",
    "    lat, lon = utm.to_latlon(x, y, 32, 'U')\n",
    "\n",
    "    return lat, lon\n",
    "\n",
    "def latlon_to_utm(lat, lon):\n",
    "    # Convert lat/lon to UTM coordinates\n",
    "    utm_x, utm_y, _, _ = utm.from_latlon(lat, lon)\n",
    "\n",
    "    return utm_x, utm_y"
   ]
  },
  {
   "cell_type": "code",
   "execution_count": 17,
   "metadata": {},
   "outputs": [],
   "source": [
    "# Example usage\n",
    "# laz_file_path = \"../lasersurface/lidar_data/3dm_32_356_5645_1_nw.laz\" # Dom\n",
    "\n",
    "# laz_file_path = \"../lasersurface/lidar_data/3dm_32_358_5643_1_nw.laz\" # TÜV building in Poll\n",
    "\n",
    "laz_file_path = '/Volumes/SSD2/Split_NRW/zone_1.3/3dm_32_336_5651_1_nw.laz'\n"
   ]
  },
  {
   "cell_type": "code",
   "execution_count": 18,
   "metadata": {},
   "outputs": [],
   "source": [
    "with laspy.open(laz_file_path) as file:\n",
    "    las = file.read()"
   ]
  },
  {
   "cell_type": "code",
   "execution_count": 19,
   "metadata": {},
   "outputs": [],
   "source": [
    "SSFACTOR = 1 # Subsampling factor for points cloud\n",
    "\n",
    "lastReturnNichtBoden = 20\n",
    "brueckenpunkte = 17\n",
    "unclassified = 1\n",
    "\n",
    "class_ok = [brueckenpunkte, lastReturnNichtBoden, unclassified]\n",
    "\n",
    "class_val = las.classification[::SSFACTOR]\n",
    "\n",
    "mask = (np.isin(class_val, class_ok))\n",
    "\n",
    "points = np.vstack((las.x[::SSFACTOR][mask], las.y[::SSFACTOR][mask], las.z[::SSFACTOR][mask])).transpose()\n",
    "\n",
    "ground_points = las.points[las.classification == 2]\n",
    "\n",
    "gnd_points = np.vstack((ground_points.x, ground_points.y, ground_points.z)).transpose()\n"
   ]
  },
  {
   "cell_type": "code",
   "execution_count": 20,
   "metadata": {},
   "outputs": [],
   "source": [
    "GCG2016_geoid_file = './GCG2016_data/GCG2016_we.tif'\n",
    "backup_DEM_file = './DEM_data/urn_eop_DLR_CDEM10_Copernicus_DSM_04_N50_00_E006_00_V8239-2020_1__DEM1__coverage_20231204210410.tif'\n",
    "#DEM_file = '/Volumes/SSD2/Split_NRW/dgm1_32_358_5643_1_nw.tif'\n",
    "DEM_file = '/Volumes/SSD2/Split_NRW/zone_1.3_DEM/dgm1_32_336_5651_1_nw.tif'\n",
    "egm96_geoid_file = './EGM96_data/egm96_15.gtx'\n",
    "egg08_geoid_file = './EGG08_data/egm08_25.gtx'"
   ]
  },
  {
   "cell_type": "code",
   "execution_count": 21,
   "metadata": {},
   "outputs": [],
   "source": [
    "# Create temporary reprojected DEM file (EPSG:28532 to EPSG:4326)\n",
    "# source: https://rasterio.readthedocs.io/en/latest/topics/reproject.html\n",
    "import numpy as np\n",
    "import rasterio\n",
    "from rasterio.warp import calculate_default_transform, reproject, Resampling\n",
    "\n",
    "dst_crs = 'EPSG:4326'\n",
    "\n",
    "with rasterio.open(DEM_file) as src:\n",
    "    transform, width, height = calculate_default_transform(\n",
    "        src.crs, dst_crs, src.width, src.height, *src.bounds)\n",
    "    kwargs = src.meta.copy()\n",
    "    kwargs.update({\n",
    "        'crs': dst_crs,\n",
    "        'transform': transform,\n",
    "        'width': width,\n",
    "        'height': height\n",
    "    })\n",
    "\n",
    "    with rasterio.open('./temp_DEM_file.tif', 'w', **kwargs) as dst:\n",
    "        for i in range(1, src.count + 1):\n",
    "            reproject(\n",
    "                source=rasterio.band(src, i),\n",
    "                destination=rasterio.band(dst, i),\n",
    "                src_transform=src.transform,\n",
    "                src_crs=src.crs,\n",
    "                dst_transform=transform,\n",
    "                dst_crs=dst_crs,\n",
    "                resampling=Resampling.nearest)"
   ]
  },
  {
   "cell_type": "code",
   "execution_count": 22,
   "metadata": {},
   "outputs": [],
   "source": [
    "temp_DEM_file = './temp_DEM_file.tif'\n",
    "\n",
    "transformer = Transformer.from_pipeline(\n",
    "    f\"+proj=pipeline \"\n",
    "    f\"+step +inv +proj=utm +zone=32 +ellps=WGS84 \"  # Convert from UTM Zone 32N to geographic coordinates\n",
    "    f\"+step +proj=vgridshift +grids=@{temp_DEM_file},{backup_DEM_file} +multiplier = -1 \"  # Vertical grid shift to remove the DEM elevation\n",
    ")"
   ]
  },
  {
   "attachments": {},
   "cell_type": "markdown",
   "metadata": {},
   "source": [
    "# Tests"
   ]
  },
  {
   "cell_type": "code",
   "execution_count": 109,
   "metadata": {},
   "outputs": [
    {
     "name": "stderr",
     "output_type": "stream",
     "text": [
      "100%|██████████| 9471722/9471722 [00:37<00:00, 252318.18it/s]\n"
     ]
    }
   ],
   "source": [
    "transformed_z = np.array([transformer.transform(xi, yi, zi)[2] for xi, yi, zi in tqdm(zip(las.x, las.y, las.z), total=9471722)])\n"
   ]
  },
  {
   "cell_type": "code",
   "execution_count": 23,
   "metadata": {},
   "outputs": [
    {
     "data": {
      "text/plain": [
       "(inf, inf, inf)"
      ]
     },
     "execution_count": 23,
     "metadata": {},
     "output_type": "execute_result"
    }
   ],
   "source": [
    "transformer.transform(356000.10000000003, 5645018.83,200)"
   ]
  },
  {
   "cell_type": "code",
   "execution_count": 110,
   "metadata": {},
   "outputs": [
    {
     "data": {
      "text/plain": [
       "2.248118481420427"
      ]
     },
     "execution_count": 110,
     "metadata": {},
     "output_type": "execute_result"
    }
   ],
   "source": [
    "transformed_z.mean()"
   ]
  },
  {
   "attachments": {},
   "cell_type": "markdown",
   "metadata": {},
   "source": [
    "## test to transform only ground points and check average height"
   ]
  },
  {
   "cell_type": "code",
   "execution_count": 111,
   "metadata": {},
   "outputs": [
    {
     "name": "stderr",
     "output_type": "stream",
     "text": [
      "100%|██████████| 3365666/3365666 [00:13<00:00, 253146.69it/s]\n"
     ]
    }
   ],
   "source": [
    "transformed_ground_z = np.array([transformer.transform(xi, yi, zi)[2] for xi, yi, zi in tqdm(zip(ground_points.x, ground_points.y, ground_points.z), total=len(ground_points.x))])"
   ]
  },
  {
   "cell_type": "code",
   "execution_count": 117,
   "metadata": {},
   "outputs": [
    {
     "data": {
      "text/plain": [
       "-4.416774161873778"
      ]
     },
     "execution_count": 117,
     "metadata": {},
     "output_type": "execute_result"
    }
   ],
   "source": [
    "transformed_ground_z.mean()"
   ]
  },
  {
   "attachments": {},
   "cell_type": "markdown",
   "metadata": {},
   "source": [
    "## Check DEM file values with rasterio"
   ]
  },
  {
   "cell_type": "code",
   "execution_count": 45,
   "metadata": {},
   "outputs": [],
   "source": [
    "import rasterio\n",
    "from rasterio.transform import from_origin\n",
    "\n",
    "def get_dem_elevation(dem_file, lat, lon):\n",
    "    \"\"\"\n",
    "    Get the elevation from a DEM file at a given latitude and longitude.\n",
    "\n",
    "    Parameters:\n",
    "    dem_file (str): Path to the DEM file.\n",
    "    lat (float): Latitude of the point.\n",
    "    lon (float): Longitude of the point.\n",
    "\n",
    "    Returns:\n",
    "    float: Elevation at the given latitude and longitude.\n",
    "    \"\"\"\n",
    "    with rasterio.open(dem_file) as dataset:\n",
    "        # Convert the latitude and longitude to row and column\n",
    "        row, col = dataset.index(lon, lat)\n",
    "\n",
    "        print(row)\n",
    "        print(col)\n",
    "\n",
    "        row -= 5645000\n",
    "        col *= -1\n",
    "        col -= 356000\n",
    "\n",
    "        # Read the elevation at the given row and column\n",
    "        elevation = dataset.read(1)[row, col]\n",
    "        return elevation"
   ]
  },
  {
   "cell_type": "code",
   "execution_count": 27,
   "metadata": {},
   "outputs": [
    {
     "name": "stdout",
     "output_type": "stream",
     "text": [
      "EPSG:25832\n",
      "Bounds of the dataset: BoundingBox(left=356000.0, bottom=5645000.0, right=357000.0, top=5646000.0)\n"
     ]
    }
   ],
   "source": [
    "with rasterio.open(DEM_file) as dataset:\n",
    "    print(dataset.crs)\n",
    "\n",
    "    bounds = dataset.bounds\n",
    "    print(\"Bounds of the dataset:\", bounds)"
   ]
  },
  {
   "cell_type": "code",
   "execution_count": 48,
   "metadata": {},
   "outputs": [
    {
     "name": "stdout",
     "output_type": "stream",
     "text": [
      "5645949\n",
      "-355994\n",
      "Elevation at (50.941276, 6.957772): 39.20750045776367 meters\n"
     ]
    }
   ],
   "source": [
    "latitude, longitude = 50.941276,6.957772\n",
    "elevation = get_dem_elevation(DEM_file, latitude, longitude)\n",
    "print(f\"Elevation at ({latitude}, {longitude}): {elevation} meters\")"
   ]
  },
  {
   "attachments": {},
   "cell_type": "markdown",
   "metadata": {},
   "source": [
    "# Clustering"
   ]
  },
  {
   "cell_type": "code",
   "execution_count": 23,
   "metadata": {},
   "outputs": [
    {
     "name": "stderr",
     "output_type": "stream",
     "text": [
      "100%|██████████| 5211202/5211202 [00:16<00:00, 308825.46it/s]\n"
     ]
    }
   ],
   "source": [
    "#transformed_points = np.array([transformer.transform(xi, yi, zi) for xi, yi, zi in tqdm(zip(las.x, las.y, las.z), total=len(las.x))])\n",
    "\n",
    "import os\n",
    "\n",
    "total = len(points[:,0])\n",
    "transformed_points = np.array([transformer.transform(xi, yi, zi) for xi, yi, zi in tqdm(zip(points[:,0], points[:,1], points[:,2]), total = total)])\n",
    "\n",
    "#os.remove(temp_DEM_file)"
   ]
  },
  {
   "cell_type": "code",
   "execution_count": 95,
   "metadata": {},
   "outputs": [
    {
     "data": {
      "text/plain": [
       "(365062.43, 5619009.24)"
      ]
     },
     "execution_count": 95,
     "metadata": {},
     "output_type": "execute_result"
    }
   ],
   "source": [
    "points[:,0][1234], points[:,1][1234]"
   ]
  },
  {
   "cell_type": "code",
   "execution_count": 24,
   "metadata": {},
   "outputs": [
    {
     "name": "stdout",
     "output_type": "stream",
     "text": [
      "Size of the DataFrame: 160.0 MB\n"
     ]
    }
   ],
   "source": [
    "# Create our dataframe\n",
    "\n",
    "df = pd.DataFrame(\n",
    "    data={\n",
    "        \"x\": points[:,0], #np.array(las.x), # We need UTM coordinates\n",
    "        \"y\": points[:,1], #np.array(las.y), # \n",
    "        \"z\": points[:,2],\n",
    "        \"h\": transformed_points[:,2]\n",
    "    }\n",
    ")\n",
    "\n",
    "size_df = sys.getsizeof(df)\n",
    "print(f\"Size of the DataFrame: {np.ceil(size_df / (1024*1024))} MB\")"
   ]
  },
  {
   "cell_type": "code",
   "execution_count": 25,
   "metadata": {},
   "outputs": [
    {
     "name": "stdout",
     "output_type": "stream",
     "text": [
      "Removed 0 rows to the dataframe\n"
     ]
    }
   ],
   "source": [
    "inf_rows = df.isin([np.inf, -np.inf]).any(axis=1)\n",
    "inf_rows_df = df[inf_rows]\n",
    "df = df[~inf_rows]\n",
    "print(f'Removed {len(inf_rows_df)} rows to the dataframe')\n"
   ]
  },
  {
   "cell_type": "code",
   "execution_count": 26,
   "metadata": {},
   "outputs": [
    {
     "name": "stdout",
     "output_type": "stream",
     "text": [
      "Data points covers region: [ 336000.  337000. 5651000. 5652000.]\n"
     ]
    }
   ],
   "source": [
    "region = pygmt.info(data=df[[\"x\", \"y\"]], spacing=1)  # West, East, South, North\n",
    "\n",
    "print(f\"Data points covers region: {region}\")"
   ]
  },
  {
   "cell_type": "code",
   "execution_count": 27,
   "metadata": {},
   "outputs": [],
   "source": [
    "x_min, x_max, y_min, y_max = list(region)"
   ]
  },
  {
   "cell_type": "code",
   "execution_count": 28,
   "metadata": {},
   "outputs": [
    {
     "name": "stdout",
     "output_type": "stream",
     "text": [
      "Removed another 28243 points on the edge\n"
     ]
    }
   ],
   "source": [
    "# Filtering the DataFrame\n",
    "condition = (abs(df['x'] - x_min) < 1.5) | \\\n",
    "            (abs(df['x'] - x_max) < 1.5) | \\\n",
    "            (abs(df['y'] - y_min) < 1.5) | \\\n",
    "            (abs(df['y'] - y_max) < 1.5)\n",
    "\n",
    "df_filtered = df[~condition]\n",
    "\n",
    "# Number of rows removed\n",
    "print(f'Removed another {len(df) - len(df_filtered)} points on the edge')\n"
   ]
  },
  {
   "cell_type": "code",
   "execution_count": 29,
   "metadata": {},
   "outputs": [
    {
     "name": "stdout",
     "output_type": "stream",
     "text": [
      "Size of the DataFrame: 14.0 MB\n"
     ]
    }
   ],
   "source": [
    "df_trimmed = pygmt.blockmedian(\n",
    "    data=df_filtered[[\"x\", \"y\", \"h\"]],\n",
    "    T=0.9999,  # 99.99th quantile, i.e. the highest point\n",
    "    spacing=\"1+e\", # 1+e for 1 m # 0.1 increases the size of df but more accurate?\n",
    "    region=region,\n",
    ")\n",
    "\n",
    "size_df_trimmed = sys.getsizeof(df_trimmed)\n",
    "print(f\"Size of the DataFrame: {np.ceil(size_df_trimmed / (1024*1024))} MB\")"
   ]
  },
  {
   "cell_type": "code",
   "execution_count": 36,
   "metadata": {},
   "outputs": [
    {
     "name": "stderr",
     "output_type": "stream",
     "text": [
      "/var/folders/v_/0jkxx12x7r9_3szb050fks9m0000gn/T/ipykernel_64155/13985715.py:8: SettingWithCopyWarning:\n",
      "\n",
      "\n",
      "A value is trying to be set on a copy of a slice from a DataFrame.\n",
      "Try using .loc[row_indexer,col_indexer] = value instead\n",
      "\n",
      "See the caveats in the documentation: https://pandas.pydata.org/pandas-docs/stable/user_guide/indexing.html#returning-a-view-versus-a-copy\n",
      "\n"
     ]
    },
    {
     "data": {
      "text/html": [
       "<div>\n",
       "<style scoped>\n",
       "    .dataframe tbody tr th:only-of-type {\n",
       "        vertical-align: middle;\n",
       "    }\n",
       "\n",
       "    .dataframe tbody tr th {\n",
       "        vertical-align: top;\n",
       "    }\n",
       "\n",
       "    .dataframe thead th {\n",
       "        text-align: right;\n",
       "    }\n",
       "</style>\n",
       "<table border=\"1\" class=\"dataframe\">\n",
       "  <thead>\n",
       "    <tr style=\"text-align: right;\">\n",
       "      <th></th>\n",
       "      <th>x</th>\n",
       "      <th>y</th>\n",
       "      <th>h</th>\n",
       "      <th>cluster</th>\n",
       "      <th>lat</th>\n",
       "      <th>lon</th>\n",
       "    </tr>\n",
       "  </thead>\n",
       "  <tbody>\n",
       "    <tr>\n",
       "      <th>0</th>\n",
       "      <td>336559.08</td>\n",
       "      <td>5651952.44</td>\n",
       "      <td>154.513884</td>\n",
       "      <td>0</td>\n",
       "      <td>50.995911</td>\n",
       "      <td>6.670845</td>\n",
       "    </tr>\n",
       "    <tr>\n",
       "      <th>1</th>\n",
       "      <td>336396.48</td>\n",
       "      <td>5651892.51</td>\n",
       "      <td>127.371766</td>\n",
       "      <td>1</td>\n",
       "      <td>50.995327</td>\n",
       "      <td>6.668557</td>\n",
       "    </tr>\n",
       "    <tr>\n",
       "      <th>2</th>\n",
       "      <td>336485.25</td>\n",
       "      <td>5651856.49</td>\n",
       "      <td>131.295467</td>\n",
       "      <td>2</td>\n",
       "      <td>50.995028</td>\n",
       "      <td>6.669837</td>\n",
       "    </tr>\n",
       "    <tr>\n",
       "      <th>3</th>\n",
       "      <td>336223.13</td>\n",
       "      <td>5651813.35</td>\n",
       "      <td>108.983335</td>\n",
       "      <td>3</td>\n",
       "      <td>50.994566</td>\n",
       "      <td>6.666124</td>\n",
       "    </tr>\n",
       "    <tr>\n",
       "      <th>4</th>\n",
       "      <td>336736.35</td>\n",
       "      <td>5651689.49</td>\n",
       "      <td>175.968173</td>\n",
       "      <td>4</td>\n",
       "      <td>50.993599</td>\n",
       "      <td>6.673487</td>\n",
       "    </tr>\n",
       "    <tr>\n",
       "      <th>5</th>\n",
       "      <td>336414.41</td>\n",
       "      <td>5651732.44</td>\n",
       "      <td>103.760000</td>\n",
       "      <td>5</td>\n",
       "      <td>50.993894</td>\n",
       "      <td>6.668884</td>\n",
       "    </tr>\n",
       "    <tr>\n",
       "      <th>6</th>\n",
       "      <td>336297.40</td>\n",
       "      <td>5651723.48</td>\n",
       "      <td>117.257434</td>\n",
       "      <td>6</td>\n",
       "      <td>50.993780</td>\n",
       "      <td>6.667222</td>\n",
       "    </tr>\n",
       "    <tr>\n",
       "      <th>7</th>\n",
       "      <td>336471.45</td>\n",
       "      <td>5651686.50</td>\n",
       "      <td>164.198531</td>\n",
       "      <td>7</td>\n",
       "      <td>50.993497</td>\n",
       "      <td>6.669717</td>\n",
       "    </tr>\n",
       "    <tr>\n",
       "      <th>8</th>\n",
       "      <td>336413.26</td>\n",
       "      <td>5651658.37</td>\n",
       "      <td>127.823727</td>\n",
       "      <td>8</td>\n",
       "      <td>50.993228</td>\n",
       "      <td>6.668901</td>\n",
       "    </tr>\n",
       "    <tr>\n",
       "      <th>9</th>\n",
       "      <td>336366.48</td>\n",
       "      <td>5651628.50</td>\n",
       "      <td>125.292718</td>\n",
       "      <td>9</td>\n",
       "      <td>50.992946</td>\n",
       "      <td>6.668249</td>\n",
       "    </tr>\n",
       "    <tr>\n",
       "      <th>10</th>\n",
       "      <td>336312.43</td>\n",
       "      <td>5651607.48</td>\n",
       "      <td>120.174348</td>\n",
       "      <td>10</td>\n",
       "      <td>50.992742</td>\n",
       "      <td>6.667489</td>\n",
       "    </tr>\n",
       "    <tr>\n",
       "      <th>11</th>\n",
       "      <td>336243.26</td>\n",
       "      <td>5651559.38</td>\n",
       "      <td>94.798247</td>\n",
       "      <td>11</td>\n",
       "      <td>50.992290</td>\n",
       "      <td>6.666525</td>\n",
       "    </tr>\n",
       "  </tbody>\n",
       "</table>\n",
       "</div>"
      ],
      "text/plain": [
       "            x           y           h  cluster        lat       lon\n",
       "0   336559.08  5651952.44  154.513884        0  50.995911  6.670845\n",
       "1   336396.48  5651892.51  127.371766        1  50.995327  6.668557\n",
       "2   336485.25  5651856.49  131.295467        2  50.995028  6.669837\n",
       "3   336223.13  5651813.35  108.983335        3  50.994566  6.666124\n",
       "4   336736.35  5651689.49  175.968173        4  50.993599  6.673487\n",
       "5   336414.41  5651732.44  103.760000        5  50.993894  6.668884\n",
       "6   336297.40  5651723.48  117.257434        6  50.993780  6.667222\n",
       "7   336471.45  5651686.50  164.198531        7  50.993497  6.669717\n",
       "8   336413.26  5651658.37  127.823727        8  50.993228  6.668901\n",
       "9   336366.48  5651628.50  125.292718        9  50.992946  6.668249\n",
       "10  336312.43  5651607.48  120.174348       10  50.992742  6.667489\n",
       "11  336243.26  5651559.38   94.798247       11  50.992290  6.666525"
      ]
     },
     "execution_count": 36,
     "metadata": {},
     "output_type": "execute_result"
    }
   ],
   "source": [
    "# Identify points that are above 120m above geoid (for Cologne this means about 70 m above ground).\n",
    "high_points = df_trimmed[df_trimmed['h'] > 90] # Default = 60\n",
    "\n",
    "# Assuming that points within 100m of each other belong to the same obstacle\n",
    "clustering = DBSCAN(eps=40, min_samples=2).fit(high_points[['x', 'y', 'h']]) # TODO: no error if no cluster found # Default = 50\n",
    "\n",
    "# Add the cluster labels to the high_points DataFrame\n",
    "high_points['cluster'] = clustering.labels_\n",
    "\n",
    "# Filter out noise points (DBSCAN labels noise as -1)\n",
    "obstacles = high_points[high_points['cluster'] != -1]\n",
    "\n",
    "# Find the highest point in each obstacle cluster\n",
    "highest_points = obstacles.loc[obstacles.groupby('cluster')['h'].idxmax()]\n",
    "\n",
    "# The resulting DataFrame 'highest_points' contains the coordinates of the highest point of each obstacle\n",
    "highest_points.reset_index(drop=True, inplace=True)\n",
    "\n",
    "# Apply the conversion function to the DataFrame to create new columns 'lat' and 'lon'\n",
    "highest_points['lat'], highest_points['lon'] = zip(*highest_points.apply(lambda row: utm_to_latlon(row['x'], row['y']), axis=1))\n",
    "\n",
    "# Display the resulting DataFrame\n",
    "pd.set_option('display.max_rows', 200)\n",
    "highest_points"
   ]
  },
  {
   "cell_type": "code",
   "execution_count": 62,
   "metadata": {},
   "outputs": [
    {
     "data": {
      "text/plain": [
       "6.602780492487682"
      ]
     },
     "execution_count": 62,
     "metadata": {},
     "output_type": "execute_result"
    }
   ],
   "source": [
    "df_filtered.h.median()"
   ]
  },
  {
   "cell_type": "code",
   "execution_count": 127,
   "metadata": {},
   "outputs": [
    {
     "data": {
      "text/plain": [
       "-222.51415827978076"
      ]
     },
     "execution_count": 127,
     "metadata": {},
     "output_type": "execute_result"
    }
   ],
   "source": [
    "transformed_points[:,2].min()"
   ]
  },
  {
   "cell_type": "markdown",
   "metadata": {},
   "source": [
    "## Visualise obstacles"
   ]
  },
  {
   "cell_type": "code",
   "execution_count": 37,
   "metadata": {},
   "outputs": [
    {
     "data": {
      "application/vnd.plotly.v1+json": {
       "config": {
        "plotlyServerURL": "https://plot.ly"
       },
       "data": [
        {
         "hoverinfo": "text",
         "lat": [
          50.995911490365295,
          50.99532681514463,
          50.99502840127228,
          50.99456625442705,
          50.99359917845771,
          50.993893673529655,
          50.993779898090665,
          50.99349710915945,
          50.99322782322298,
          50.992946141696336,
          50.9927419068439,
          50.99229005042671
         ],
         "lon": [
          6.670844955151635,
          6.6685568322116815,
          6.66983695256799,
          6.666124383652459,
          6.6734871563108165,
          6.668884214215606,
          6.6672223228905985,
          6.669717005342867,
          6.668901200461912,
          6.668248635679665,
          6.667488586903311,
          6.666525488457621
         ],
         "marker": {
          "color": "red",
          "opacity": 0.5,
          "size": 20
         },
         "mode": "markers",
         "text": [
          "Cluster: 0<br>Calculated height (m): 154.5",
          "Cluster: 1<br>Calculated height (m): 127.4",
          "Cluster: 2<br>Calculated height (m): 131.3",
          "Cluster: 3<br>Calculated height (m): 109.0",
          "Cluster: 4<br>Calculated height (m): 176.0",
          "Cluster: 5<br>Calculated height (m): 103.8",
          "Cluster: 6<br>Calculated height (m): 117.3",
          "Cluster: 7<br>Calculated height (m): 164.2",
          "Cluster: 8<br>Calculated height (m): 127.8",
          "Cluster: 9<br>Calculated height (m): 125.3",
          "Cluster: 10<br>Calculated height (m): 120.2",
          "Cluster: 11<br>Calculated height (m): 94.8"
         ],
         "type": "scattermapbox"
        }
       ],
       "layout": {
        "height": 800,
        "mapbox": {
         "center": {
          "lat": 50.99390072855306,
          "lon": 6.668819811153848
         },
         "style": "open-street-map",
         "zoom": 12
        },
        "margin": {
         "b": 10,
         "l": 10,
         "r": 10,
         "t": 10
        },
        "showlegend": false,
        "template": {
         "data": {
          "bar": [
           {
            "error_x": {
             "color": "#2a3f5f"
            },
            "error_y": {
             "color": "#2a3f5f"
            },
            "marker": {
             "line": {
              "color": "#E5ECF6",
              "width": 0.5
             },
             "pattern": {
              "fillmode": "overlay",
              "size": 10,
              "solidity": 0.2
             }
            },
            "type": "bar"
           }
          ],
          "barpolar": [
           {
            "marker": {
             "line": {
              "color": "#E5ECF6",
              "width": 0.5
             },
             "pattern": {
              "fillmode": "overlay",
              "size": 10,
              "solidity": 0.2
             }
            },
            "type": "barpolar"
           }
          ],
          "carpet": [
           {
            "aaxis": {
             "endlinecolor": "#2a3f5f",
             "gridcolor": "white",
             "linecolor": "white",
             "minorgridcolor": "white",
             "startlinecolor": "#2a3f5f"
            },
            "baxis": {
             "endlinecolor": "#2a3f5f",
             "gridcolor": "white",
             "linecolor": "white",
             "minorgridcolor": "white",
             "startlinecolor": "#2a3f5f"
            },
            "type": "carpet"
           }
          ],
          "choropleth": [
           {
            "colorbar": {
             "outlinewidth": 0,
             "ticks": ""
            },
            "type": "choropleth"
           }
          ],
          "contour": [
           {
            "colorbar": {
             "outlinewidth": 0,
             "ticks": ""
            },
            "colorscale": [
             [
              0,
              "#0d0887"
             ],
             [
              0.1111111111111111,
              "#46039f"
             ],
             [
              0.2222222222222222,
              "#7201a8"
             ],
             [
              0.3333333333333333,
              "#9c179e"
             ],
             [
              0.4444444444444444,
              "#bd3786"
             ],
             [
              0.5555555555555556,
              "#d8576b"
             ],
             [
              0.6666666666666666,
              "#ed7953"
             ],
             [
              0.7777777777777778,
              "#fb9f3a"
             ],
             [
              0.8888888888888888,
              "#fdca26"
             ],
             [
              1,
              "#f0f921"
             ]
            ],
            "type": "contour"
           }
          ],
          "contourcarpet": [
           {
            "colorbar": {
             "outlinewidth": 0,
             "ticks": ""
            },
            "type": "contourcarpet"
           }
          ],
          "heatmap": [
           {
            "colorbar": {
             "outlinewidth": 0,
             "ticks": ""
            },
            "colorscale": [
             [
              0,
              "#0d0887"
             ],
             [
              0.1111111111111111,
              "#46039f"
             ],
             [
              0.2222222222222222,
              "#7201a8"
             ],
             [
              0.3333333333333333,
              "#9c179e"
             ],
             [
              0.4444444444444444,
              "#bd3786"
             ],
             [
              0.5555555555555556,
              "#d8576b"
             ],
             [
              0.6666666666666666,
              "#ed7953"
             ],
             [
              0.7777777777777778,
              "#fb9f3a"
             ],
             [
              0.8888888888888888,
              "#fdca26"
             ],
             [
              1,
              "#f0f921"
             ]
            ],
            "type": "heatmap"
           }
          ],
          "heatmapgl": [
           {
            "colorbar": {
             "outlinewidth": 0,
             "ticks": ""
            },
            "colorscale": [
             [
              0,
              "#0d0887"
             ],
             [
              0.1111111111111111,
              "#46039f"
             ],
             [
              0.2222222222222222,
              "#7201a8"
             ],
             [
              0.3333333333333333,
              "#9c179e"
             ],
             [
              0.4444444444444444,
              "#bd3786"
             ],
             [
              0.5555555555555556,
              "#d8576b"
             ],
             [
              0.6666666666666666,
              "#ed7953"
             ],
             [
              0.7777777777777778,
              "#fb9f3a"
             ],
             [
              0.8888888888888888,
              "#fdca26"
             ],
             [
              1,
              "#f0f921"
             ]
            ],
            "type": "heatmapgl"
           }
          ],
          "histogram": [
           {
            "marker": {
             "pattern": {
              "fillmode": "overlay",
              "size": 10,
              "solidity": 0.2
             }
            },
            "type": "histogram"
           }
          ],
          "histogram2d": [
           {
            "colorbar": {
             "outlinewidth": 0,
             "ticks": ""
            },
            "colorscale": [
             [
              0,
              "#0d0887"
             ],
             [
              0.1111111111111111,
              "#46039f"
             ],
             [
              0.2222222222222222,
              "#7201a8"
             ],
             [
              0.3333333333333333,
              "#9c179e"
             ],
             [
              0.4444444444444444,
              "#bd3786"
             ],
             [
              0.5555555555555556,
              "#d8576b"
             ],
             [
              0.6666666666666666,
              "#ed7953"
             ],
             [
              0.7777777777777778,
              "#fb9f3a"
             ],
             [
              0.8888888888888888,
              "#fdca26"
             ],
             [
              1,
              "#f0f921"
             ]
            ],
            "type": "histogram2d"
           }
          ],
          "histogram2dcontour": [
           {
            "colorbar": {
             "outlinewidth": 0,
             "ticks": ""
            },
            "colorscale": [
             [
              0,
              "#0d0887"
             ],
             [
              0.1111111111111111,
              "#46039f"
             ],
             [
              0.2222222222222222,
              "#7201a8"
             ],
             [
              0.3333333333333333,
              "#9c179e"
             ],
             [
              0.4444444444444444,
              "#bd3786"
             ],
             [
              0.5555555555555556,
              "#d8576b"
             ],
             [
              0.6666666666666666,
              "#ed7953"
             ],
             [
              0.7777777777777778,
              "#fb9f3a"
             ],
             [
              0.8888888888888888,
              "#fdca26"
             ],
             [
              1,
              "#f0f921"
             ]
            ],
            "type": "histogram2dcontour"
           }
          ],
          "mesh3d": [
           {
            "colorbar": {
             "outlinewidth": 0,
             "ticks": ""
            },
            "type": "mesh3d"
           }
          ],
          "parcoords": [
           {
            "line": {
             "colorbar": {
              "outlinewidth": 0,
              "ticks": ""
             }
            },
            "type": "parcoords"
           }
          ],
          "pie": [
           {
            "automargin": true,
            "type": "pie"
           }
          ],
          "scatter": [
           {
            "fillpattern": {
             "fillmode": "overlay",
             "size": 10,
             "solidity": 0.2
            },
            "type": "scatter"
           }
          ],
          "scatter3d": [
           {
            "line": {
             "colorbar": {
              "outlinewidth": 0,
              "ticks": ""
             }
            },
            "marker": {
             "colorbar": {
              "outlinewidth": 0,
              "ticks": ""
             }
            },
            "type": "scatter3d"
           }
          ],
          "scattercarpet": [
           {
            "marker": {
             "colorbar": {
              "outlinewidth": 0,
              "ticks": ""
             }
            },
            "type": "scattercarpet"
           }
          ],
          "scattergeo": [
           {
            "marker": {
             "colorbar": {
              "outlinewidth": 0,
              "ticks": ""
             }
            },
            "type": "scattergeo"
           }
          ],
          "scattergl": [
           {
            "marker": {
             "colorbar": {
              "outlinewidth": 0,
              "ticks": ""
             }
            },
            "type": "scattergl"
           }
          ],
          "scattermapbox": [
           {
            "marker": {
             "colorbar": {
              "outlinewidth": 0,
              "ticks": ""
             }
            },
            "type": "scattermapbox"
           }
          ],
          "scatterpolar": [
           {
            "marker": {
             "colorbar": {
              "outlinewidth": 0,
              "ticks": ""
             }
            },
            "type": "scatterpolar"
           }
          ],
          "scatterpolargl": [
           {
            "marker": {
             "colorbar": {
              "outlinewidth": 0,
              "ticks": ""
             }
            },
            "type": "scatterpolargl"
           }
          ],
          "scatterternary": [
           {
            "marker": {
             "colorbar": {
              "outlinewidth": 0,
              "ticks": ""
             }
            },
            "type": "scatterternary"
           }
          ],
          "surface": [
           {
            "colorbar": {
             "outlinewidth": 0,
             "ticks": ""
            },
            "colorscale": [
             [
              0,
              "#0d0887"
             ],
             [
              0.1111111111111111,
              "#46039f"
             ],
             [
              0.2222222222222222,
              "#7201a8"
             ],
             [
              0.3333333333333333,
              "#9c179e"
             ],
             [
              0.4444444444444444,
              "#bd3786"
             ],
             [
              0.5555555555555556,
              "#d8576b"
             ],
             [
              0.6666666666666666,
              "#ed7953"
             ],
             [
              0.7777777777777778,
              "#fb9f3a"
             ],
             [
              0.8888888888888888,
              "#fdca26"
             ],
             [
              1,
              "#f0f921"
             ]
            ],
            "type": "surface"
           }
          ],
          "table": [
           {
            "cells": {
             "fill": {
              "color": "#EBF0F8"
             },
             "line": {
              "color": "white"
             }
            },
            "header": {
             "fill": {
              "color": "#C8D4E3"
             },
             "line": {
              "color": "white"
             }
            },
            "type": "table"
           }
          ]
         },
         "layout": {
          "annotationdefaults": {
           "arrowcolor": "#2a3f5f",
           "arrowhead": 0,
           "arrowwidth": 1
          },
          "autotypenumbers": "strict",
          "coloraxis": {
           "colorbar": {
            "outlinewidth": 0,
            "ticks": ""
           }
          },
          "colorscale": {
           "diverging": [
            [
             0,
             "#8e0152"
            ],
            [
             0.1,
             "#c51b7d"
            ],
            [
             0.2,
             "#de77ae"
            ],
            [
             0.3,
             "#f1b6da"
            ],
            [
             0.4,
             "#fde0ef"
            ],
            [
             0.5,
             "#f7f7f7"
            ],
            [
             0.6,
             "#e6f5d0"
            ],
            [
             0.7,
             "#b8e186"
            ],
            [
             0.8,
             "#7fbc41"
            ],
            [
             0.9,
             "#4d9221"
            ],
            [
             1,
             "#276419"
            ]
           ],
           "sequential": [
            [
             0,
             "#0d0887"
            ],
            [
             0.1111111111111111,
             "#46039f"
            ],
            [
             0.2222222222222222,
             "#7201a8"
            ],
            [
             0.3333333333333333,
             "#9c179e"
            ],
            [
             0.4444444444444444,
             "#bd3786"
            ],
            [
             0.5555555555555556,
             "#d8576b"
            ],
            [
             0.6666666666666666,
             "#ed7953"
            ],
            [
             0.7777777777777778,
             "#fb9f3a"
            ],
            [
             0.8888888888888888,
             "#fdca26"
            ],
            [
             1,
             "#f0f921"
            ]
           ],
           "sequentialminus": [
            [
             0,
             "#0d0887"
            ],
            [
             0.1111111111111111,
             "#46039f"
            ],
            [
             0.2222222222222222,
             "#7201a8"
            ],
            [
             0.3333333333333333,
             "#9c179e"
            ],
            [
             0.4444444444444444,
             "#bd3786"
            ],
            [
             0.5555555555555556,
             "#d8576b"
            ],
            [
             0.6666666666666666,
             "#ed7953"
            ],
            [
             0.7777777777777778,
             "#fb9f3a"
            ],
            [
             0.8888888888888888,
             "#fdca26"
            ],
            [
             1,
             "#f0f921"
            ]
           ]
          },
          "colorway": [
           "#636efa",
           "#EF553B",
           "#00cc96",
           "#ab63fa",
           "#FFA15A",
           "#19d3f3",
           "#FF6692",
           "#B6E880",
           "#FF97FF",
           "#FECB52"
          ],
          "font": {
           "color": "#2a3f5f"
          },
          "geo": {
           "bgcolor": "white",
           "lakecolor": "white",
           "landcolor": "#E5ECF6",
           "showlakes": true,
           "showland": true,
           "subunitcolor": "white"
          },
          "hoverlabel": {
           "align": "left"
          },
          "hovermode": "closest",
          "mapbox": {
           "style": "light"
          },
          "paper_bgcolor": "white",
          "plot_bgcolor": "#E5ECF6",
          "polar": {
           "angularaxis": {
            "gridcolor": "white",
            "linecolor": "white",
            "ticks": ""
           },
           "bgcolor": "#E5ECF6",
           "radialaxis": {
            "gridcolor": "white",
            "linecolor": "white",
            "ticks": ""
           }
          },
          "scene": {
           "xaxis": {
            "backgroundcolor": "#E5ECF6",
            "gridcolor": "white",
            "gridwidth": 2,
            "linecolor": "white",
            "showbackground": true,
            "ticks": "",
            "zerolinecolor": "white"
           },
           "yaxis": {
            "backgroundcolor": "#E5ECF6",
            "gridcolor": "white",
            "gridwidth": 2,
            "linecolor": "white",
            "showbackground": true,
            "ticks": "",
            "zerolinecolor": "white"
           },
           "zaxis": {
            "backgroundcolor": "#E5ECF6",
            "gridcolor": "white",
            "gridwidth": 2,
            "linecolor": "white",
            "showbackground": true,
            "ticks": "",
            "zerolinecolor": "white"
           }
          },
          "shapedefaults": {
           "line": {
            "color": "#2a3f5f"
           }
          },
          "ternary": {
           "aaxis": {
            "gridcolor": "white",
            "linecolor": "white",
            "ticks": ""
           },
           "baxis": {
            "gridcolor": "white",
            "linecolor": "white",
            "ticks": ""
           },
           "bgcolor": "#E5ECF6",
           "caxis": {
            "gridcolor": "white",
            "linecolor": "white",
            "ticks": ""
           }
          },
          "title": {
           "x": 0.05
          },
          "xaxis": {
           "automargin": true,
           "gridcolor": "white",
           "linecolor": "white",
           "ticks": "",
           "title": {
            "standoff": 15
           },
           "zerolinecolor": "white",
           "zerolinewidth": 2
          },
          "yaxis": {
           "automargin": true,
           "gridcolor": "white",
           "linecolor": "white",
           "ticks": "",
           "title": {
            "standoff": 15
           },
           "zerolinecolor": "white",
           "zerolinewidth": 2
          }
         }
        }
       }
      }
     },
     "metadata": {},
     "output_type": "display_data"
    }
   ],
   "source": [
    "import plotly.graph_objects as go\n",
    "\n",
    "scattermapbox_objects = []\n",
    "\n",
    "scattermapbox_objects.append(go.Scattermapbox(\n",
    "    mode=\"markers\",\n",
    "    lon=highest_points['lon'], \n",
    "    lat=highest_points['lat'],\n",
    "    marker={'size': 20, 'color': \"red\", 'opacity': 0.5,},\n",
    "    text='Cluster: '+ highest_points['cluster'].apply(lambda x: str(x)) + '<br>' + 'Calculated height (m): ' + highest_points['h'].apply(lambda x: str(round(x, 1))),\n",
    "    hoverinfo='text'  # Only display the text on hover\n",
    "))\n",
    "'''\n",
    "scattermapbox_objects.append(go.Scattermapbox(\n",
    "    mode=\"markers\",\n",
    "    lon=AIP_df['geoLong'], \n",
    "    lat=AIP_df['geoLat'],\n",
    "    marker={'size': 10, \n",
    "            'symbol': 'circle',\n",
    "            'color': \"blue\",\n",
    "            'opacity': 0.7,\n",
    "           },\n",
    "    text='Name: ' + AIP_df['txtName']+'<br>'+'Published height (m): ' + AIP_df['valHgt (m)'].apply(lambda x: str(round(x, 1))),\n",
    "    hoverinfo='text'  # Only display the text on hover\n",
    "))\n",
    "'''\n",
    "'''scattermapbox_objects.append(go.Scattermapbox(\n",
    "        name = 'Data limits',\n",
    "        mode=\"lines\",\n",
    "        line=dict(color=\"black\", width=1),\n",
    "        lat=np.array([LAT_MAX, LAT_MAX, LAT_MIN, LAT_MIN, LAT_MAX]),\n",
    "        lon=np.array([LON_MIN, LON_MAX, LON_MAX, LON_MIN, LON_MIN]),\n",
    "        hoverinfo='name',\n",
    "        hoverlabel_namelength=-1   # https://stackoverflow.com/questions/36207887/plot-ly-hover-box-size-attribute\n",
    "    ))\n",
    "'''\n",
    "# Create a scatter plot of the highest points using Plotly with OpenStreetMap background\n",
    "fig = go.Figure(data=scattermapbox_objects)\n",
    "\n",
    "# Set the layout for the map\n",
    "fig.update_layout(\n",
    "    mapbox={\n",
    "        'style': \"open-street-map\",\n",
    "        'center': {'lon': np.mean(highest_points['lon']), 'lat': np.mean(highest_points['lat'])},\n",
    "        'zoom': 12\n",
    "    },\n",
    "    showlegend=False\n",
    ")\n",
    "\n",
    "# Adjust the margins and set the height\n",
    "fig.update_layout(height=800, margin={\"r\":10,\"t\":10,\"l\":10,\"b\":10})\n",
    "\n",
    "# Show the figure\n",
    "fig.show()"
   ]
  },
  {
   "attachments": {},
   "cell_type": "markdown",
   "metadata": {},
   "source": [
    "## Check the transformation steps to understand their effect"
   ]
  },
  {
   "cell_type": "code",
   "execution_count": 38,
   "metadata": {},
   "outputs": [],
   "source": [
    "transformer1 = Transformer.from_pipeline(\n",
    "    f\"+proj=pipeline \"\n",
    "    f\"+step +inv +proj=utm +zone=32 +ellps=WGS84 \"  # Convert from UTM Zone 32N to geographic coordinates\n",
    "    f\"+step +proj=vgridshift +grids={GCG2016_geoid_file} +multiplier = 1 \"  # Vertical grid shift to add the DHHN16 elevation -> WGS84\n",
    ")\n",
    "\n",
    "transformer2 = Transformer.from_pipeline(\n",
    "    f\"+proj=pipeline \"\n",
    "    f\"+step +inv +proj=utm +zone=32 +ellps=WGS84 \"  # Convert from UTM Zone 32N to geographic coordinates\n",
    "    f\"+step +proj=vgridshift +grids={temp_DEM_file} +multiplier = -1 \"  # Vertical grid shift to remove the DEM elevation\n",
    ")\n",
    "\n",
    "transformer3 = Transformer.from_pipeline(\n",
    "    f\"+proj=pipeline \"\n",
    "    f\"+step +inv +proj=utm +zone=32 +ellps=WGS84 \"  # Convert from UTM Zone 32N to geographic coordinates\n",
    "    f\"+step +proj=vgridshift +grids={egg08_geoid_file} +multiplier = -1 \" # Vertical grid shift to remove the EGM2008 geoid height\n",
    ")\n",
    "\n",
    "transformer4 = Transformer.from_pipeline(\n",
    "    f\"+proj=pipeline \"\n",
    "    f\"+step +inv +proj=utm +zone=32 +ellps=WGS84 \"  # Convert from UTM Zone 32N to geographic coordinates\n",
    "    f\"+step +proj=vgridshift +grids={backup_DEM_file} +multiplier = -1 \"  # Vertical grid shift to remove the DEM elevation\n",
    ")"
   ]
  },
  {
   "cell_type": "code",
   "execution_count": 39,
   "metadata": {},
   "outputs": [
    {
     "name": "stdout",
     "output_type": "stream",
     "text": [
      "Total shift: -82.41323781315228\n",
      "Step 1: 45.973466354370714\n",
      "Step 2: -82.41323781315228\n",
      "Step 3: -46.20117970245901\n",
      "Step 4: -101.32412877564747\n"
     ]
    }
   ],
   "source": [
    "x, y = 336413.26, 5651658.37\n",
    "\n",
    "print(\n",
    "    f\"Total shift: {transformer.transform(x, y,0)[2]}\\n\"\n",
    "    f\"Step 1: {transformer1.transform(x, y,0)[2]}\\n\"\n",
    "    f\"Step 2: {transformer2.transform(x, y,0)[2]}\\n\"\n",
    "    f\"Step 3: {transformer3.transform(x, y,0)[2]}\\n\"\n",
    "    f\"Step 4: {transformer4.transform(x, y,0)[2]}\"\n",
    ")"
   ]
  },
  {
   "cell_type": "code",
   "execution_count": 53,
   "metadata": {},
   "outputs": [
    {
     "name": "stdout",
     "output_type": "stream",
     "text": [
      "525 595\n",
      "Elevation at the coordinate: 55.56\n"
     ]
    }
   ],
   "source": [
    "with rasterio.open(DEM_file) as dem:\n",
    "    # Transformer to convert UTM to geographic coordinates (WGS 84)\n",
    "    transformer = Transformer.from_crs(\"epsg:25832\", \"epsg:4326\", always_xy=True)\n",
    "\n",
    "    # UTM coordinates\n",
    "    utm_x, utm_y = 356595.8,5645474.8\n",
    "\n",
    "    # Convert UTM coordinates to row and column indices in the DEM\n",
    "    row, col = dem.index(utm_x, utm_y)\n",
    "\n",
    "    # Read the elevation value at the specified indices\n",
    "    elevation = dem.read(1)[row, col]\n",
    "\n",
    "    print(\"Elevation at the coordinate:\", elevation)"
   ]
  },
  {
   "attachments": {},
   "cell_type": "markdown",
   "metadata": {},
   "source": [
    "# new attempt with original DEM file"
   ]
  },
  {
   "cell_type": "code",
   "execution_count": 139,
   "metadata": {},
   "outputs": [],
   "source": [
    "def find_elev(x, y, dem_file):\n",
    "\n",
    "    with rasterio.open(dem_file) as dem:\n",
    "    # Transformer to convert UTM to geographic coordinates (WGS 84)\n",
    "\n",
    "        # Convert UTM coordinates to row and column indices in the DEM\n",
    "        row, col = dem.index(x, y)\n",
    "\n",
    "        if row==1000: row=999\n",
    "        if col==1000: col=999\n",
    "\n",
    "        #print(x, y, row, col)\n",
    "\n",
    "        # Read the elevation value at the specified indices\n",
    "        elevation = dem.read(1)[row, col]\n",
    "\n",
    "        return elevation"
   ]
  },
  {
   "cell_type": "code",
   "execution_count": 140,
   "metadata": {},
   "outputs": [
    {
     "name": "stderr",
     "output_type": "stream",
     "text": [
      "624it [00:21, 208.55it/s]"
     ]
    },
    {
     "ename": "KeyboardInterrupt",
     "evalue": "",
     "output_type": "error",
     "traceback": [
      "\u001b[0;31m---------------------------------------------------------------------------\u001b[0m",
      "\u001b[0;31mKeyboardInterrupt\u001b[0m                         Traceback (most recent call last)",
      "Cell \u001b[0;32mIn[140], line 1\u001b[0m\n\u001b[0;32m----> 1\u001b[0m z_array \u001b[39m=\u001b[39m np\u001b[39m.\u001b[39marray([find_elev(x, y, DEM_file) \u001b[39mfor\u001b[39;49;00m x, y \u001b[39min\u001b[39;49;00m tqdm(\u001b[39mzip\u001b[39;49m(points[:,\u001b[39m0\u001b[39;49m], points[:,\u001b[39m1\u001b[39;49m]))])\n",
      "Cell \u001b[0;32mIn[140], line 1\u001b[0m, in \u001b[0;36m<listcomp>\u001b[0;34m(.0)\u001b[0m\n\u001b[0;32m----> 1\u001b[0m z_array \u001b[39m=\u001b[39m np\u001b[39m.\u001b[39marray([find_elev(x, y, DEM_file) \u001b[39mfor\u001b[39;00m x, y \u001b[39min\u001b[39;00m tqdm(\u001b[39mzip\u001b[39m(points[:,\u001b[39m0\u001b[39m], points[:,\u001b[39m1\u001b[39m]))])\n",
      "Cell \u001b[0;32mIn[139], line 3\u001b[0m, in \u001b[0;36mfind_elev\u001b[0;34m(x, y, dem_file)\u001b[0m\n\u001b[1;32m      1\u001b[0m \u001b[39mdef\u001b[39;00m \u001b[39mfind_elev\u001b[39m(x, y, dem_file):\n\u001b[0;32m----> 3\u001b[0m     \u001b[39mwith\u001b[39;00m rasterio\u001b[39m.\u001b[39;49mopen(dem_file) \u001b[39mas\u001b[39;00m dem:\n\u001b[1;32m      4\u001b[0m     \u001b[39m# Transformer to convert UTM to geographic coordinates (WGS 84)\u001b[39;00m\n\u001b[1;32m      5\u001b[0m \n\u001b[1;32m      6\u001b[0m         \u001b[39m# Convert UTM coordinates to row and column indices in the DEM\u001b[39;00m\n\u001b[1;32m      7\u001b[0m         row, col \u001b[39m=\u001b[39m dem\u001b[39m.\u001b[39mindex(x, y)\n\u001b[1;32m      9\u001b[0m         \u001b[39mif\u001b[39;00m row\u001b[39m==\u001b[39m\u001b[39m1000\u001b[39m: row\u001b[39m=\u001b[39m\u001b[39m999\u001b[39m\n",
      "File \u001b[0;32m~/Dev_local/Python/ValidateObstacles/.venv/lib/python3.11/site-packages/rasterio/env.py:451\u001b[0m, in \u001b[0;36mensure_env_with_credentials.<locals>.wrapper\u001b[0;34m(*args, **kwds)\u001b[0m\n\u001b[1;32m    448\u001b[0m     session \u001b[39m=\u001b[39m DummySession()\n\u001b[1;32m    450\u001b[0m \u001b[39mwith\u001b[39;00m env_ctor(session\u001b[39m=\u001b[39msession):\n\u001b[0;32m--> 451\u001b[0m     \u001b[39mreturn\u001b[39;00m f(\u001b[39m*\u001b[39;49margs, \u001b[39m*\u001b[39;49m\u001b[39m*\u001b[39;49mkwds)\n",
      "File \u001b[0;32m~/Dev_local/Python/ValidateObstacles/.venv/lib/python3.11/site-packages/rasterio/__init__.py:304\u001b[0m, in \u001b[0;36mopen\u001b[0;34m(fp, mode, driver, width, height, count, crs, transform, dtype, nodata, sharing, **kwargs)\u001b[0m\n\u001b[1;32m    301\u001b[0m path \u001b[39m=\u001b[39m _parse_path(raw_dataset_path)\n\u001b[1;32m    303\u001b[0m \u001b[39mif\u001b[39;00m mode \u001b[39m==\u001b[39m \u001b[39m\"\u001b[39m\u001b[39mr\u001b[39m\u001b[39m\"\u001b[39m:\n\u001b[0;32m--> 304\u001b[0m     dataset \u001b[39m=\u001b[39m DatasetReader(path, driver\u001b[39m=\u001b[39;49mdriver, sharing\u001b[39m=\u001b[39;49msharing, \u001b[39m*\u001b[39;49m\u001b[39m*\u001b[39;49mkwargs)\n\u001b[1;32m    305\u001b[0m \u001b[39melif\u001b[39;00m mode \u001b[39m==\u001b[39m \u001b[39m\"\u001b[39m\u001b[39mr+\u001b[39m\u001b[39m\"\u001b[39m:\n\u001b[1;32m    306\u001b[0m     dataset \u001b[39m=\u001b[39m get_writer_for_path(path, driver\u001b[39m=\u001b[39mdriver)(\n\u001b[1;32m    307\u001b[0m         path, mode, driver\u001b[39m=\u001b[39mdriver, sharing\u001b[39m=\u001b[39msharing, \u001b[39m*\u001b[39m\u001b[39m*\u001b[39mkwargs\n\u001b[1;32m    308\u001b[0m     )\n",
      "File \u001b[0;32mrasterio/_base.pyx:312\u001b[0m, in \u001b[0;36mrasterio._base.DatasetBase.__init__\u001b[0;34m()\u001b[0m\n",
      "File \u001b[0;32m~/Dev_local/Python/ValidateObstacles/.venv/lib/python3.11/site-packages/rasterio/_path.py:113\u001b[0m, in \u001b[0;36m_UnparsedPath.name\u001b[0;34m(self)\u001b[0m\n\u001b[1;32m    104\u001b[0m \u001b[39m\u001b[39m\u001b[39m\"\"\"Encapsulates legacy GDAL filenames\u001b[39;00m\n\u001b[1;32m    105\u001b[0m \n\u001b[1;32m    106\u001b[0m \u001b[39mAttributes\u001b[39;00m\n\u001b[0;32m   (...)\u001b[0m\n\u001b[1;32m    109\u001b[0m \u001b[39m    The legacy GDAL filename.\u001b[39;00m\n\u001b[1;32m    110\u001b[0m \u001b[39m\"\"\"\u001b[39;00m\n\u001b[1;32m    111\u001b[0m path \u001b[39m=\u001b[39m attr\u001b[39m.\u001b[39mib()\n\u001b[0;32m--> 113\u001b[0m \u001b[39m@property\u001b[39m\n\u001b[1;32m    114\u001b[0m \u001b[39mdef\u001b[39;00m \u001b[39mname\u001b[39m(\u001b[39mself\u001b[39m):\n\u001b[1;32m    115\u001b[0m \u001b[39m    \u001b[39m\u001b[39m\"\"\"The unparsed path's original path\"\"\"\u001b[39;00m\n\u001b[1;32m    116\u001b[0m     \u001b[39mreturn\u001b[39;00m \u001b[39mself\u001b[39m\u001b[39m.\u001b[39mpath\n",
      "\u001b[0;31mKeyboardInterrupt\u001b[0m: "
     ]
    },
    {
     "name": "stderr",
     "output_type": "stream",
     "text": []
    }
   ],
   "source": [
    "z_array = np.array([find_elev(x, y, DEM_file) for x, y in tqdm(zip(points[:,0], points[:,1]))])\n",
    "\n",
    "# takes forever"
   ]
  }
 ],
 "metadata": {
  "kernelspec": {
   "display_name": ".venv",
   "language": "python",
   "name": "python3"
  },
  "language_info": {
   "codemirror_mode": {
    "name": "ipython",
    "version": 3
   },
   "file_extension": ".py",
   "mimetype": "text/x-python",
   "name": "python",
   "nbconvert_exporter": "python",
   "pygments_lexer": "ipython3",
   "version": "3.11.6"
  },
  "orig_nbformat": 4,
  "vscode": {
   "interpreter": {
    "hash": "702bde69d4ee5155b74d46a654520b5d5efccaf7a15b9a8896e2d58f0f947281"
   }
  }
 },
 "nbformat": 4,
 "nbformat_minor": 2
}
